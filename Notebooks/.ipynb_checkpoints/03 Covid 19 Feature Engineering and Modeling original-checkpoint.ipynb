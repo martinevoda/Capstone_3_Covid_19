{
 "cells": [
  {
   "cell_type": "markdown",
   "id": "496a1a1f",
   "metadata": {
    "id": "496a1a1f"
   },
   "source": [
    "## Covid 19 Feature Engineering and Modeling"
   ]
  },
  {
   "cell_type": "markdown",
   "id": "84a83ec9",
   "metadata": {
    "id": "84a83ec9"
   },
   "source": [
    "## Contents:\n",
    "\n",
    "* Imports\n",
    "* Load dataset\n",
    "* Data Preparetion\n",
    "    * Decomposition positive cases\n",
    "    * Decomposition death cases\n",
    "* Stationarity check\n",
    "    * Making stationarity\n",
    "* Hyperparameter Tuning\n"
   ]
  },
  {
   "cell_type": "markdown",
   "id": "37136ef1",
   "metadata": {
    "id": "37136ef1"
   },
   "source": [
    "\n",
    "## Imports"
   ]
  },
  {
   "cell_type": "code",
   "execution_count": null,
   "id": "a713d260",
   "metadata": {
    "id": "a713d260"
   },
   "outputs": [],
   "source": [
    "import warnings\n",
    "warnings.filterwarnings('ignore')\n",
    "import pandas as pd\n",
    "import numpy as np\n",
    "import matplotlib.pyplot as plt\n",
    "import seaborn as sns\n",
    "import os\n",
    "import pickle\n",
    "from sklearn.model_selection import train_test_split\n",
    "from sklearn.preprocessing import StandardScaler\n",
    "from sklearn.metrics import accuracy_score\n",
    "from sklearn.metrics import classification_report\n",
    "from sklearn.tree import DecisionTreeClassifier\n",
    "from sklearn.ensemble import RandomForestClassifier\n",
    "from sklearn.linear_model import LogisticRegression\n",
    "from sklearn.neighbors import KNeighborsClassifier\n",
    "from sklearn.ensemble import AdaBoostClassifier\n",
    "from sklearn.ensemble import BaggingClassifier\n",
    "from xgboost import XGBClassifier\n",
    "from sklearn.model_selection import RandomizedSearchCV,GridSearchCV\n",
    "from sklearn.metrics import confusion_matrix\n",
    "\n",
    "from statsmodels.tsa.seasonal import seasonal_decompose\n",
    "from statsmodels.tsa.stattools import adfuller\n",
    "from sklearn.metrics import mean_squared_error\n",
    "from statsmodels.tsa.arima.model import ARIMA\n"
   ]
  },
  {
   "cell_type": "markdown",
   "id": "bae59c70",
   "metadata": {
    "id": "bae59c70"
   },
   "source": [
    "### Load dataset"
   ]
  },
  {
   "cell_type": "code",
   "execution_count": null,
   "id": "9e16832d",
   "metadata": {
    "id": "9e16832d",
    "outputId": "7615b0ea-cf8f-4b07-c6e6-e00177336d31"
   },
   "outputs": [
    {
     "data": {
      "text/html": [
       "<div>\n",
       "<style scoped>\n",
       "    .dataframe tbody tr th:only-of-type {\n",
       "        vertical-align: middle;\n",
       "    }\n",
       "\n",
       "    .dataframe tbody tr th {\n",
       "        vertical-align: top;\n",
       "    }\n",
       "\n",
       "    .dataframe thead th {\n",
       "        text-align: right;\n",
       "    }\n",
       "</style>\n",
       "<table border=\"1\" class=\"dataframe\">\n",
       "  <thead>\n",
       "    <tr style=\"text-align: right;\">\n",
       "      <th></th>\n",
       "      <th>confirmed</th>\n",
       "      <th>death</th>\n",
       "    </tr>\n",
       "    <tr>\n",
       "      <th>date</th>\n",
       "      <th></th>\n",
       "      <th></th>\n",
       "    </tr>\n",
       "  </thead>\n",
       "  <tbody>\n",
       "    <tr>\n",
       "      <th>2020-01-22</th>\n",
       "      <td>1</td>\n",
       "      <td>1</td>\n",
       "    </tr>\n",
       "    <tr>\n",
       "      <th>2020-01-23</th>\n",
       "      <td>1</td>\n",
       "      <td>1</td>\n",
       "    </tr>\n",
       "    <tr>\n",
       "      <th>2020-01-24</th>\n",
       "      <td>2</td>\n",
       "      <td>1</td>\n",
       "    </tr>\n",
       "    <tr>\n",
       "      <th>2020-01-25</th>\n",
       "      <td>2</td>\n",
       "      <td>1</td>\n",
       "    </tr>\n",
       "    <tr>\n",
       "      <th>2020-01-26</th>\n",
       "      <td>5</td>\n",
       "      <td>1</td>\n",
       "    </tr>\n",
       "    <tr>\n",
       "      <th>...</th>\n",
       "      <td>...</td>\n",
       "      <td>...</td>\n",
       "    </tr>\n",
       "    <tr>\n",
       "      <th>2023-03-05</th>\n",
       "      <td>103646975</td>\n",
       "      <td>1122134</td>\n",
       "    </tr>\n",
       "    <tr>\n",
       "      <th>2023-03-06</th>\n",
       "      <td>103655539</td>\n",
       "      <td>1122181</td>\n",
       "    </tr>\n",
       "    <tr>\n",
       "      <th>2023-03-07</th>\n",
       "      <td>103690910</td>\n",
       "      <td>1122516</td>\n",
       "    </tr>\n",
       "    <tr>\n",
       "      <th>2023-03-08</th>\n",
       "      <td>103755771</td>\n",
       "      <td>1123246</td>\n",
       "    </tr>\n",
       "    <tr>\n",
       "      <th>2023-03-09</th>\n",
       "      <td>103802702</td>\n",
       "      <td>1123836</td>\n",
       "    </tr>\n",
       "  </tbody>\n",
       "</table>\n",
       "<p>1143 rows × 2 columns</p>\n",
       "</div>"
      ],
      "text/plain": [
       "            confirmed    death\n",
       "date                          \n",
       "2020-01-22          1        1\n",
       "2020-01-23          1        1\n",
       "2020-01-24          2        1\n",
       "2020-01-25          2        1\n",
       "2020-01-26          5        1\n",
       "...               ...      ...\n",
       "2023-03-05  103646975  1122134\n",
       "2023-03-06  103655539  1122181\n",
       "2023-03-07  103690910  1122516\n",
       "2023-03-08  103755771  1123246\n",
       "2023-03-09  103802702  1123836\n",
       "\n",
       "[1143 rows x 2 columns]"
      ]
     },
     "execution_count": 2,
     "metadata": {},
     "output_type": "execute_result"
    }
   ],
   "source": [
    "df = pd.read_csv('./Data/cleaned_data.csv')\n",
    "df.set_index('date',inplace=True)\n",
    "df"
   ]
  },
  {
   "cell_type": "markdown",
   "id": "e6d5266d",
   "metadata": {
    "id": "e6d5266d"
   },
   "source": [
    "## Data Preparation"
   ]
  },
  {
   "cell_type": "markdown",
   "id": "ce028fb7",
   "metadata": {
    "id": "ce028fb7"
   },
   "source": [
    "### Decomposition positive case"
   ]
  },
  {
   "cell_type": "code",
   "execution_count": null,
   "id": "2d10427f",
   "metadata": {
    "id": "2d10427f",
    "outputId": "c347d41b-2c80-44fc-e1dc-f480977a5705"
   },
   "outputs": [
    {
     "data": {
      "image/png": "[encoded data removed]",
      "text/plain": [
       "<Figure size 640x480 with 4 Axes>"
      ]
     },
     "metadata": {},
     "output_type": "display_data"
    }
   ],
   "source": [
    "#Decomposiion\n",
    "decomposition = seasonal_decompose(df['confirmed'], model='additive',period=1)\n",
    "\n",
    "# Make three variables for trend, seasonal and residual components respectively.\n",
    "# Assign them the relevant features of decomposition\n",
    "trend = decomposition.trend\n",
    "seasonal = decomposition.seasonal\n",
    "residual = decomposition.resid\n",
    "\n",
    "# Plot the original data, the trend, the seasonality, and the residuals\n",
    "plt.subplot(411)\n",
    "plt.plot(df['confirmed'], label = 'Original')\n",
    "plt.legend(loc = 'best')\n",
    "plt.subplot(412)\n",
    "plt.plot(trend, label = 'Trend')\n",
    "plt.legend(loc = 'best')\n",
    "plt.subplot(413)\n",
    "plt.plot(seasonal, label = 'seasonal')\n",
    "plt.legend(loc = 'best')\n",
    "plt.subplot(414)\n",
    "plt.plot(residual, label = 'Residuals')\n",
    "plt.legend(loc = 'best')\n",
    "plt.tight_layout()"
   ]
  },
  {
   "cell_type": "markdown",
   "id": "46f2374d",
   "metadata": {
    "id": "46f2374d"
   },
   "source": [
    "### Decomposition death cases"
   ]
  },
  {
   "cell_type": "code",
   "execution_count": null,
   "id": "d3f18465",
   "metadata": {
    "id": "d3f18465",
    "outputId": "03b61ab1-5b72-4dc0-e63b-1c82e6ebda5d"
   },
   "outputs": [
    {
     "data": {
      "image/png": "[encoded data removed]",
      "text/plain": [
       "<Figure size 640x480 with 4 Axes>"
      ]
     },
     "metadata": {},
     "output_type": "display_data"
    }
   ],
   "source": [
    "#Decomposiion\n",
    "decomposition = seasonal_decompose(df['death'], model='additive',period=1)\n",
    "\n",
    "# Make three variables for trend, seasonal and residual components respectively.\n",
    "# Assign them the relevant features of decomposition\n",
    "trend = decomposition.trend\n",
    "seasonal = decomposition.seasonal\n",
    "residual = decomposition.resid\n",
    "\n",
    "# Plot the original data, the trend, the seasonality, and the residuals\n",
    "plt.subplot(411)\n",
    "plt.plot(df['death'], label = 'Original')\n",
    "plt.legend(loc = 'best')\n",
    "plt.subplot(412)\n",
    "plt.plot(trend, label = 'Trend')\n",
    "plt.legend(loc = 'best')\n",
    "plt.subplot(413)\n",
    "plt.plot(seasonal, label = 'seasonal')\n",
    "plt.legend(loc = 'best')\n",
    "plt.subplot(414)\n",
    "plt.plot(residual, label = 'Residuals')\n",
    "plt.legend(loc = 'best')\n",
    "plt.tight_layout()"
   ]
  },
  {
   "cell_type": "markdown",
   "id": "009b70fe",
   "metadata": {
    "id": "009b70fe"
   },
   "source": [
    "## Stationarity check"
   ]
  },
  {
   "cell_type": "code",
   "execution_count": null,
   "id": "28a8d68c",
   "metadata": {
    "id": "28a8d68c",
    "outputId": "46cbcb86-8250-40a5-f598-30cae94249ff"
   },
   "outputs": [
    {
     "name": "stdout",
     "output_type": "stream",
     "text": [
      "ADF Statistic: -0.03337976177109115\n",
      "p-value: 0.9556829980610061\n",
      "Critical Values: {'1%': -3.436207340777824, '5%': -2.8641263411190323, '10%': -2.5681470422493593}\n",
      "ADF Statistic: -1.7647214589397018\n",
      "p-value: 0.3981117527772616\n",
      "Critical Values: {'1%': -3.4362020989495545, '5%': -2.864124028818559, '10%': -2.5681458107461737}\n"
     ]
    }
   ],
   "source": [
    "def test_stationarity(timeseries):\n",
    "    #Dickey-Fuller test\n",
    "    result = adfuller(timeseries, autolag='AIC')\n",
    "    print('ADF Statistic:', result[0])\n",
    "    print('p-value:', result[1])\n",
    "    print('Critical Values:', result[4])\n",
    "\n",
    "test_stationarity(df['confirmed'])\n",
    "test_stationarity(df['death'])"
   ]
  },
  {
   "cell_type": "markdown",
   "id": "f31cd0bb",
   "metadata": {
    "id": "f31cd0bb"
   },
   "source": [
    "### Making stationarity"
   ]
  },
  {
   "cell_type": "code",
   "execution_count": null,
   "id": "771a1479",
   "metadata": {
    "id": "771a1479",
    "outputId": "940baa5e-cc0c-4cb2-aa9a-d8d419fc4d90"
   },
   "outputs": [
    {
     "name": "stdout",
     "output_type": "stream",
     "text": [
      "ADF Statistic: -9.095787396441516\n",
      "p-value: 3.7183306101979044e-15\n",
      "Critical Values: {'1%': -3.436207340777824, '5%': -2.8641263411190323, '10%': -2.5681470422493593}\n",
      "ADF Statistic: -6.48504249689365\n",
      "p-value: 1.2670556457493723e-08\n",
      "Critical Values: {'1%': -3.4361604996756685, '5%': -2.864105678204421, '10%': -2.568136037454102}\n"
     ]
    }
   ],
   "source": [
    "df['confirmed']  = np.log(df['confirmed'])\n",
    "df['death']  = np.log(df['death'])\n",
    "\n",
    "test_stationarity(df['confirmed'])\n",
    "test_stationarity(df['death'])\n",
    "\n",
    "data.loc[data['']]"
   ]
  },
  {
   "cell_type": "markdown",
   "id": "1b292ec2",
   "metadata": {
    "id": "1b292ec2"
   },
   "source": [
    "ADF Statistic: In both cases, the ADF Statistic is negative, indicating that the time series may be stationary.\n",
    "p-value: For both 'positive' and 'death', the p-value is less than 0.05, suggesting that you can reject the null hypothesis.\n",
    "Critical Values: The Critical Values are thresholds at which you would reject the null hypothesis. If the ADF Statistic is more negative than these critical values, you can reject the null hypothesis. In both cases, the ADF Statistic is more negative than the critical values at the 1%, 5%, and 10% levels.\n",
    "The results of the Dickey-Fuller test suggest that both 'positive' and 'death' time series are likely stationary."
   ]
  },
  {
   "cell_type": "markdown",
   "id": "940fd5b6",
   "metadata": {
    "id": "940fd5b6"
   },
   "source": [
    "## Hyperparameter Tuning"
   ]
  },
  {
   "cell_type": "code",
   "execution_count": null,
   "id": "44fb156d",
   "metadata": {
    "id": "44fb156d",
    "outputId": "fadc5b11-a808-4696-985c-c4e088286737"
   },
   "outputs": [
    {
     "name": "stdout",
     "output_type": "stream",
     "text": [
      "ARIMA (0, 0, 0) MSE=4.728 for confirmed\n",
      "ARIMA (0, 0, 1) MSE=1.190 for confirmed\n",
      "ARIMA (0, 0, 2) MSE=0.309 for confirmed\n",
      "ARIMA (0, 1, 0) MSE=0.000 for confirmed\n",
      "ARIMA (0, 1, 1) MSE=0.000 for confirmed\n",
      "ARIMA (0, 1, 2) MSE=0.000 for confirmed\n",
      "ARIMA (0, 2, 0) MSE=0.000 for confirmed\n",
      "ARIMA (0, 2, 1) MSE=0.000 for confirmed\n",
      "ARIMA (0, 2, 2) MSE=0.000 for confirmed\n",
      "ARIMA (1, 0, 0) MSE=0.000 for confirmed\n",
      "ARIMA (1, 0, 1) MSE=0.000 for confirmed\n",
      "ARIMA (1, 0, 2) MSE=0.000 for confirmed\n",
      "ARIMA (1, 1, 0) MSE=0.000 for confirmed\n",
      "ARIMA (1, 1, 1) MSE=0.000 for confirmed\n",
      "ARIMA (1, 1, 2) MSE=0.000 for confirmed\n",
      "ARIMA (1, 2, 0) MSE=0.000 for confirmed\n",
      "ARIMA (1, 2, 1) MSE=0.000 for confirmed\n",
      "ARIMA (1, 2, 2) MSE=0.000 for confirmed\n",
      "Error in evaluate_arima_model: LU decomposition error.\n",
      "ARIMA (2, 0, 0) MSE=inf for confirmed\n",
      "ARIMA (2, 0, 1) MSE=0.000 for confirmed\n",
      "ARIMA (2, 0, 2) MSE=0.000 for confirmed\n",
      "ARIMA (2, 1, 0) MSE=0.000 for confirmed\n",
      "ARIMA (2, 1, 1) MSE=0.000 for confirmed\n",
      "ARIMA (2, 1, 2) MSE=0.000 for confirmed\n",
      "ARIMA (2, 2, 0) MSE=0.000 for confirmed\n",
      "ARIMA (2, 2, 1) MSE=0.000 for confirmed\n",
      "ARIMA (2, 2, 2) MSE=0.000 for confirmed\n",
      "Best ARIMA (1, 1, 0) MSE= 0.000 for confirmed\n",
      "ARIMA (0, 0, 0) MSE=2.475 for death\n",
      "ARIMA (0, 0, 1) MSE=0.627 for death\n",
      "ARIMA (0, 0, 2) MSE=0.178 for death\n",
      "ARIMA (0, 1, 0) MSE=0.000 for death\n",
      "ARIMA (0, 1, 1) MSE=0.000 for death\n",
      "ARIMA (0, 1, 2) MSE=0.000 for death\n",
      "ARIMA (0, 2, 0) MSE=0.000 for death\n",
      "ARIMA (0, 2, 1) MSE=0.000 for death\n",
      "ARIMA (0, 2, 2) MSE=0.000 for death\n",
      "ARIMA (1, 0, 0) MSE=0.000 for death\n",
      "ARIMA (1, 0, 1) MSE=0.000 for death\n",
      "ARIMA (1, 0, 2) MSE=0.000 for death\n",
      "ARIMA (1, 1, 0) MSE=0.000 for death\n",
      "ARIMA (1, 1, 1) MSE=0.000 for death\n",
      "ARIMA (1, 1, 2) MSE=0.000 for death\n",
      "ARIMA (1, 2, 0) MSE=0.000 for death\n",
      "ARIMA (1, 2, 1) MSE=0.000 for death\n",
      "ARIMA (1, 2, 2) MSE=0.000 for death\n",
      "ARIMA (2, 0, 0) MSE=0.000 for death\n",
      "ARIMA (2, 0, 1) MSE=0.000 for death\n",
      "ARIMA (2, 0, 2) MSE=0.000 for death\n",
      "ARIMA (2, 1, 0) MSE=0.000 for death\n",
      "ARIMA (2, 1, 1) MSE=0.000 for death\n",
      "ARIMA (2, 1, 2) MSE=0.000 for death\n",
      "ARIMA (2, 2, 0) MSE=0.000 for death\n",
      "ARIMA (2, 2, 1) MSE=0.000 for death\n",
      "ARIMA (2, 2, 2) MSE=0.000 for death\n",
      "Best ARIMA (0, 2, 0) MSE= 0.000 for death\n"
     ]
    }
   ],
   "source": [
    "# Make a function called evaluate_arima_model to find the MSE of a single ARIMA model\n",
    "def evaluate_arima_model(data, arima_order):\n",
    "    try:\n",
    "        # Needs to be an integer because it is later used as an index.\n",
    "        split = int(len(data) * 0.8)\n",
    "        # Make train and test variables\n",
    "        train, test = data[0:split], data[split:]\n",
    "        past = [x for x in train]\n",
    "        # Make predictions\n",
    "        predictions = list()\n",
    "        for i in range(len(test)):\n",
    "            model = ARIMA(past, order=arima_order)\n",
    "            model_fit = model.fit()\n",
    "            future = model_fit.forecast()[0]\n",
    "            predictions.append(future)\n",
    "            past.append(test[i])\n",
    "        # Calculate out-of-sample error\n",
    "        error = mean_squared_error(test, predictions)\n",
    "        # Return the error\n",
    "        return error\n",
    "    except Exception as e:\n",
    "        print(f\"Error in evaluate_arima_model: {e}\")\n",
    "        return np.inf  # Return infinity for cases where the model did not converge or encountered an issue\n",
    "\n",
    "# Make a function called evaluate_models to evaluate different ARIMA models with several different p, d, and q values.\n",
    "def evaluate_models(dataset, column, p_values, d_values, q_values):\n",
    "    best_score, best_cfg = float(\"inf\"), None\n",
    "    # Iterate through p_values\n",
    "    for p in p_values:\n",
    "        # Iterate through d_values\n",
    "        for d in d_values:\n",
    "            # Iterate through q_values\n",
    "            for q in q_values:\n",
    "                # p, d, q iterator variables in that order\n",
    "                order = (p, d, q)\n",
    "                # Make a variable called mse for the Mean squared error\n",
    "                mse = evaluate_arima_model(dataset[column], order)\n",
    "                if mse < best_score:\n",
    "                    best_score, best_cfg = mse, order\n",
    "                print(f'ARIMA {order} MSE={mse:.3f} for {column}')\n",
    "    return print(f'Best ARIMA {best_cfg} MSE= {best_score:.3f} for {column}')\n",
    "\n",
    "# Now, we choose a couple of values to try for each parameter: p_values, d_values, and q_values\n",
    "# Fill in the blanks as appropriate\n",
    "p_values = [x for x in range(0, 3)]\n",
    "d_values = [x for x in range(0, 3)]\n",
    "q_values = [x for x in range(0, 3)]\n",
    "\n",
    "# Finally, we can find the optimum ARIMA model for our data.\n",
    "# This can take a while...!\n",
    "import warnings\n",
    "warnings.filterwarnings(\"ignore\")\n",
    "\n",
    "# Evaluate for 'positive'\n",
    "evaluate_models(df, 'confirmed', p_values, d_values, q_values)\n",
    "\n",
    "# Evaluate for 'death'\n",
    "evaluate_models(df, 'death', p_values, d_values, q_values)"
   ]
  },
  {
   "cell_type": "code",
   "execution_count": null,
   "id": "ecc15849",
   "metadata": {
    "id": "ecc15849"
   },
   "outputs": [],
   "source": [
    "p=1\n",
    "d=1\n",
    "q=0\n",
    "model = ARIMA(df['confirmed'], order=(p,d,q))\n",
    "model_fit = model.fit()\n",
    "forecast = model_fit.forecast(24)"
   ]
  },
  {
   "cell_type": "code",
   "execution_count": null,
   "id": "da3dfbb6",
   "metadata": {
    "id": "da3dfbb6",
    "outputId": "ac8c84c8-8181-41b3-eb44-b3f226ce551b"
   },
   "outputs": [
    {
     "data": {
      "text/html": [
       "<table class=\"simpletable\">\n",
       "<caption>SARIMAX Results</caption>\n",
       "<tr>\n",
       "  <th>Dep. Variable:</th>       <td>confirmed</td>    <th>  No. Observations:  </th>   <td>1143</td>   \n",
       "</tr>\n",
       "<tr>\n",
       "  <th>Model:</th>            <td>ARIMA(1, 1, 0)</td>  <th>  Log Likelihood     </th> <td>1786.393</td> \n",
       "</tr>\n",
       "<tr>\n",
       "  <th>Date:</th>            <td>Wed, 10 Jan 2024</td> <th>  AIC                </th> <td>-3568.786</td>\n",
       "</tr>\n",
       "<tr>\n",
       "  <th>Time:</th>                <td>19:31:46</td>     <th>  BIC                </th> <td>-3558.705</td>\n",
       "</tr>\n",
       "<tr>\n",
       "  <th>Sample:</th>             <td>01-22-2020</td>    <th>  HQIC               </th> <td>-3564.979</td>\n",
       "</tr>\n",
       "<tr>\n",
       "  <th></th>                   <td>- 03-09-2023</td>   <th>                     </th>     <td> </td>    \n",
       "</tr>\n",
       "<tr>\n",
       "  <th>Covariance Type:</th>        <td>opg</td>       <th>                     </th>     <td> </td>    \n",
       "</tr>\n",
       "</table>\n",
       "<table class=\"simpletable\">\n",
       "<tr>\n",
       "     <td></td>       <th>coef</th>     <th>std err</th>      <th>z</th>      <th>P>|z|</th>  <th>[0.025</th>    <th>0.975]</th>  \n",
       "</tr>\n",
       "<tr>\n",
       "  <th>ar.L1</th>  <td>    0.6199</td> <td>    0.004</td> <td>  150.796</td> <td> 0.000</td> <td>    0.612</td> <td>    0.628</td>\n",
       "</tr>\n",
       "<tr>\n",
       "  <th>sigma2</th> <td>    0.0026</td> <td> 1.28e-05</td> <td>  199.743</td> <td> 0.000</td> <td>    0.003</td> <td>    0.003</td>\n",
       "</tr>\n",
       "</table>\n",
       "<table class=\"simpletable\">\n",
       "<tr>\n",
       "  <th>Ljung-Box (L1) (Q):</th>     <td>166.43</td> <th>  Jarque-Bera (JB):  </th> <td>1084885.20</td>\n",
       "</tr>\n",
       "<tr>\n",
       "  <th>Prob(Q):</th>                 <td>0.00</td>  <th>  Prob(JB):          </th>    <td>0.00</td>   \n",
       "</tr>\n",
       "<tr>\n",
       "  <th>Heteroskedasticity (H):</th>  <td>0.00</td>  <th>  Skew:              </th>    <td>6.95</td>   \n",
       "</tr>\n",
       "<tr>\n",
       "  <th>Prob(H) (two-sided):</th>     <td>0.00</td>  <th>  Kurtosis:          </th>   <td>153.35</td>  \n",
       "</tr>\n",
       "</table><br/><br/>Warnings:<br/>[1] Covariance matrix calculated using the outer product of gradients (complex-step)."
      ],
      "text/plain": [
       "<class 'statsmodels.iolib.summary.Summary'>\n",
       "\"\"\"\n",
       "                               SARIMAX Results                                \n",
       "==============================================================================\n",
       "Dep. Variable:              confirmed   No. Observations:                 1143\n",
       "Model:                 ARIMA(1, 1, 0)   Log Likelihood                1786.393\n",
       "Date:                Wed, 10 Jan 2024   AIC                          -3568.786\n",
       "Time:                        19:31:46   BIC                          -3558.705\n",
       "Sample:                    01-22-2020   HQIC                         -3564.979\n",
       "                         - 03-09-2023                                         \n",
       "Covariance Type:                  opg                                         \n",
       "==============================================================================\n",
       "                 coef    std err          z      P>|z|      [0.025      0.975]\n",
       "------------------------------------------------------------------------------\n",
       "ar.L1          0.6199      0.004    150.796      0.000       0.612       0.628\n",
       "sigma2         0.0026   1.28e-05    199.743      0.000       0.003       0.003\n",
       "===================================================================================\n",
       "Ljung-Box (L1) (Q):                 166.43   Jarque-Bera (JB):           1084885.20\n",
       "Prob(Q):                              0.00   Prob(JB):                         0.00\n",
       "Heteroskedasticity (H):               0.00   Skew:                             6.95\n",
       "Prob(H) (two-sided):                  0.00   Kurtosis:                       153.35\n",
       "===================================================================================\n",
       "\n",
       "Warnings:\n",
       "[1] Covariance matrix calculated using the outer product of gradients (complex-step).\n",
       "\"\"\""
      ]
     },
     "execution_count": 14,
     "metadata": {},
     "output_type": "execute_result"
    }
   ],
   "source": [
    "model_fit.summary()"
   ]
  },
  {
   "cell_type": "code",
   "execution_count": null,
   "id": "667fba2e",
   "metadata": {
    "id": "667fba2e"
   },
   "outputs": [],
   "source": [
    "p=0\n",
    "d=2\n",
    "q=0\n",
    "model = ARIMA(df['death'], order=(p,d,q))\n",
    "model_fit = model.fit()\n",
    "forecast = model_fit.forecast(24)"
   ]
  },
  {
   "cell_type": "code",
   "execution_count": null,
   "id": "4b19fa86",
   "metadata": {
    "id": "4b19fa86",
    "outputId": "77769e1a-e617-412b-c806-9ea64e86c2cb",
    "scrolled": false
   },
   "outputs": [
    {
     "data": {
      "text/html": [
       "<table class=\"simpletable\">\n",
       "<caption>SARIMAX Results</caption>\n",
       "<tr>\n",
       "  <th>Dep. Variable:</th>         <td>death</td>      <th>  No. Observations:  </th>   <td>1143</td>   \n",
       "</tr>\n",
       "<tr>\n",
       "  <th>Model:</th>            <td>ARIMA(0, 2, 0)</td>  <th>  Log Likelihood     </th> <td>1592.998</td> \n",
       "</tr>\n",
       "<tr>\n",
       "  <th>Date:</th>            <td>Wed, 10 Jan 2024</td> <th>  AIC                </th> <td>-3183.997</td>\n",
       "</tr>\n",
       "<tr>\n",
       "  <th>Time:</th>                <td>19:32:49</td>     <th>  BIC                </th> <td>-3178.957</td>\n",
       "</tr>\n",
       "<tr>\n",
       "  <th>Sample:</th>             <td>01-22-2020</td>    <th>  HQIC               </th> <td>-3182.093</td>\n",
       "</tr>\n",
       "<tr>\n",
       "  <th></th>                   <td>- 03-09-2023</td>   <th>                     </th>     <td> </td>    \n",
       "</tr>\n",
       "<tr>\n",
       "  <th>Covariance Type:</th>        <td>opg</td>       <th>                     </th>     <td> </td>    \n",
       "</tr>\n",
       "</table>\n",
       "<table class=\"simpletable\">\n",
       "<tr>\n",
       "     <td></td>       <th>coef</th>     <th>std err</th>      <th>z</th>      <th>P>|z|</th>  <th>[0.025</th>    <th>0.975]</th>  \n",
       "</tr>\n",
       "<tr>\n",
       "  <th>sigma2</th> <td>    0.0036</td> <td> 1.21e-05</td> <td>  295.555</td> <td> 0.000</td> <td>    0.004</td> <td>    0.004</td>\n",
       "</tr>\n",
       "</table>\n",
       "<table class=\"simpletable\">\n",
       "<tr>\n",
       "  <th>Ljung-Box (L1) (Q):</th>     <td>699.85</td> <th>  Jarque-Bera (JB):  </th> <td>4399589.59</td>\n",
       "</tr>\n",
       "<tr>\n",
       "  <th>Prob(Q):</th>                 <td>0.00</td>  <th>  Prob(JB):          </th>    <td>0.00</td>   \n",
       "</tr>\n",
       "<tr>\n",
       "  <th>Heteroskedasticity (H):</th>  <td>0.00</td>  <th>  Skew:              </th>    <td>2.24</td>   \n",
       "</tr>\n",
       "<tr>\n",
       "  <th>Prob(H) (two-sided):</th>     <td>0.00</td>  <th>  Kurtosis:          </th>   <td>307.17</td>  \n",
       "</tr>\n",
       "</table><br/><br/>Warnings:<br/>[1] Covariance matrix calculated using the outer product of gradients (complex-step)."
      ],
      "text/plain": [
       "<class 'statsmodels.iolib.summary.Summary'>\n",
       "\"\"\"\n",
       "                               SARIMAX Results                                \n",
       "==============================================================================\n",
       "Dep. Variable:                  death   No. Observations:                 1143\n",
       "Model:                 ARIMA(0, 2, 0)   Log Likelihood                1592.998\n",
       "Date:                Wed, 10 Jan 2024   AIC                          -3183.997\n",
       "Time:                        19:32:49   BIC                          -3178.957\n",
       "Sample:                    01-22-2020   HQIC                         -3182.093\n",
       "                         - 03-09-2023                                         \n",
       "Covariance Type:                  opg                                         \n",
       "==============================================================================\n",
       "                 coef    std err          z      P>|z|      [0.025      0.975]\n",
       "------------------------------------------------------------------------------\n",
       "sigma2         0.0036   1.21e-05    295.555      0.000       0.004       0.004\n",
       "===================================================================================\n",
       "Ljung-Box (L1) (Q):                 699.85   Jarque-Bera (JB):           4399589.59\n",
       "Prob(Q):                              0.00   Prob(JB):                         0.00\n",
       "Heteroskedasticity (H):               0.00   Skew:                             2.24\n",
       "Prob(H) (two-sided):                  0.00   Kurtosis:                       307.17\n",
       "===================================================================================\n",
       "\n",
       "Warnings:\n",
       "[1] Covariance matrix calculated using the outer product of gradients (complex-step).\n",
       "\"\"\""
      ]
     },
     "execution_count": 16,
     "metadata": {},
     "output_type": "execute_result"
    }
   ],
   "source": [
    "model_fit.summary()"
   ]
  },
  {
   "cell_type": "code",
   "execution_count": null,
   "id": "7da878ce",
   "metadata": {
    "id": "7da878ce",
    "outputId": "3b64a8a1-6a13-4b29-c7ce-8142fd0f5f8c",
    "scrolled": false
   },
   "outputs": [
    {
     "data": {
      "image/png": "[encoded data removed]",
      "text/plain": [
       "<Figure size 1500x1000 with 1 Axes>"
      ]
     },
     "metadata": {},
     "output_type": "display_data"
    }
   ],
   "source": [
    "import matplotlib.dates as mdates\n",
    "\n",
    "# Assuming 'y_log' is your confirmed variable\n",
    "y_confirmed = df['confirmed']\n",
    "\n",
    "# Call figure() and plot() on the plt\n",
    "plt.figure(figsize=(15, 10))\n",
    "\n",
    "# Plot the original confirmed data\n",
    "plt.plot(y_confirmed.diff(), label='Confirmed Data (Diff)')\n",
    "\n",
    "# Plot the predicted values from the ARIMA model\n",
    "plt.plot(model_fit.fittedvalues, color='red', label='ARIMA Predictions')\n",
    "\n",
    "# Set labels and title\n",
    "plt.xlabel('Date')\n",
    "plt.ylabel('Confirmed Cases')\n",
    "plt.title('ARIMA Model for Confirmed Cases')\n",
    "\n",
    "# Set y-axis limits after filtering out NaN or Inf values\n",
    "#max_diff_value = max(y_confirmed.diff().dropna().replace([np.inf, -np.inf], np.nan))\n",
    "#plt.ylim(bottom=0, top=max_diff_value + 100000)\n",
    "\n",
    "# Customize x-axis ticks using mdates\n",
    "# Formatting x-axis to show only months\n",
    "plt.gca().xaxis.set_major_locator(mdates.MonthLocator())\n",
    "plt.gca().xaxis.set_major_formatter(mdates.DateFormatter('%b'))\n",
    "plt.legend()\n",
    "\n",
    "# Show the plot\n",
    "plt.show()\n"
   ]
  },
  {
   "cell_type": "code",
   "execution_count": null,
   "id": "d5cdee9e",
   "metadata": {
    "id": "d5cdee9e",
    "outputId": "77467dca-313c-4296-fba4-ae321be40cff",
    "scrolled": false
   },
   "outputs": [
    {
     "ename": "AttributeError",
     "evalue": "'numpy.float64' object has no attribute 'append'",
     "output_type": "error",
     "traceback": [
      "\u001b[0;31m---------------------------------------------------------------------------\u001b[0m",
      "\u001b[0;31mAttributeError\u001b[0m                            Traceback (most recent call last)",
      "Cell \u001b[0;32mIn[60], line 19\u001b[0m\n\u001b[1;32m     17\u001b[0m plt\u001b[38;5;241m.\u001b[39mfigure(figsize\u001b[38;5;241m=\u001b[39m(\u001b[38;5;241m15\u001b[39m,\u001b[38;5;241m10\u001b[39m))\n\u001b[1;32m     18\u001b[0m plt\u001b[38;5;241m.\u001b[39mplot(df\u001b[38;5;241m.\u001b[39mindex, df[\u001b[38;5;124m'\u001b[39m\u001b[38;5;124mconfirmed\u001b[39m\u001b[38;5;124m'\u001b[39m], label\u001b[38;5;241m=\u001b[39m\u001b[38;5;124m'\u001b[39m\u001b[38;5;124mConfirmed Cases\u001b[39m\u001b[38;5;124m'\u001b[39m)\n\u001b[0;32m---> 19\u001b[0m plt\u001b[38;5;241m.\u001b[39mplot(\u001b[43mdf\u001b[49m\u001b[43m[\u001b[49m\u001b[38;5;124;43m'\u001b[39;49m\u001b[38;5;124;43mconfirmed\u001b[39;49m\u001b[38;5;124;43m'\u001b[39;49m\u001b[43m]\u001b[49m\u001b[43m[\u001b[49m\u001b[38;5;124;43m'\u001b[39;49m\u001b[38;5;124;43m2023-03-09\u001b[39;49m\u001b[38;5;124;43m'\u001b[39;49m\u001b[43m]\u001b[49m\u001b[38;5;241;43m.\u001b[39;49m\u001b[43mappend\u001b[49m(future_months[\u001b[38;5;124m'\u001b[39m\u001b[38;5;124mPrediction\u001b[39m\u001b[38;5;124m'\u001b[39m]))\n\u001b[1;32m     20\u001b[0m plt\u001b[38;5;241m.\u001b[39mxlabel(\u001b[38;5;124m'\u001b[39m\u001b[38;5;124mDate\u001b[39m\u001b[38;5;124m'\u001b[39m)\n\u001b[1;32m     21\u001b[0m plt\u001b[38;5;241m.\u001b[39mylabel(\u001b[38;5;124m'\u001b[39m\u001b[38;5;124mConfirmed Cases\u001b[39m\u001b[38;5;124m'\u001b[39m)\n",
      "\u001b[0;31mAttributeError\u001b[0m: 'numpy.float64' object has no attribute 'append'"
     ]
    },
    {
     "data": {
      "image/png": "[encoded data removed]",
      "text/plain": [
       "<Figure size 1500x1000 with 1 Axes>"
      ]
     },
     "metadata": {},
     "output_type": "display_data"
    }
   ],
   "source": [
    "# Declare a variable called forecast_period with the amount of months to forecast, and\n",
    "# create a range of future dates that is the length of the periods you've chosen to forecast\n",
    "forecast_period= 24\n",
    "date_range = pd.date_range(df['confirmed'].index[-1], periods = forecast_period + 1,\n",
    "              freq='MS').strftime(\"%Y-%m-%d\").tolist()\n",
    "\n",
    "# Convert that range into a dataframe that includes your predictions\n",
    "# First, call DataFrame on pd\n",
    "future_months = pd.DataFrame(date_range[1:], columns = ['Month'])\n",
    "# Let's now convert the 'Month' column to a datetime object with to_datetime\n",
    "future_months['Month'] = pd.to_datetime(future_months['Month'])\n",
    "future_months.set_index('Month', inplace = True)\n",
    "future_months['Prediction'] = model_fit.forecast(steps=forecast_period)\n",
    "\n",
    "# Plot your future predictions\n",
    "# Call figure() on plt\n",
    "plt.figure(figsize=(15,10))\n",
    "plt.plot(df.index, df['confirmed'], label='Confirmed Cases')\n",
    "plt.plot(df['confirmed']['2023-03-09'].append(future_months['Prediction']))\n",
    "plt.xlabel('Date')\n",
    "plt.ylabel('Confirmed Cases')\n",
    "plt.title('Confirmed Cases Forecast')\n",
    "plt.legend()\n",
    "plt.show()\n"
   ]
  },
  {
   "cell_type": "code",
   "execution_count": null,
   "id": "331050f2",
   "metadata": {
    "id": "331050f2",
    "outputId": "688cb173-1ec3-4a2f-d995-5e4906a21004"
   },
   "outputs": [
    {
     "name": "stdout",
     "output_type": "stream",
     "text": [
      "2020-01-22     0.000000\n",
      "2020-01-23     0.000000\n",
      "2020-01-24     0.000000\n",
      "2020-01-25     0.000000\n",
      "2020-01-26     0.000000\n",
      "                ...    \n",
      "2023-03-05    13.930783\n",
      "2023-03-06    13.930709\n",
      "2023-03-07    13.930827\n",
      "2023-03-08    13.931382\n",
      "2023-03-09    13.932383\n",
      "Freq: D, Name: predicted_mean, Length: 1143, dtype: float64\n"
     ]
    }
   ],
   "source": [
    "print(model_fit.predict())"
   ]
  },
  {
   "cell_type": "code",
   "execution_count": null,
   "id": "a7109197",
   "metadata": {
    "id": "a7109197",
    "outputId": "33480b0f-99f0-4a2e-dbf3-4d8ae78989e9"
   },
   "outputs": [
    {
     "name": "stdout",
     "output_type": "stream",
     "text": [
      "date\n",
      "2020-01-22     0.000000\n",
      "2020-01-23     0.000000\n",
      "2020-01-24     0.693147\n",
      "2020-01-25     0.693147\n",
      "2020-01-26     1.609438\n",
      "                ...    \n",
      "2023-03-05    18.456501\n",
      "2023-03-06    18.456584\n",
      "2023-03-07    18.456925\n",
      "2023-03-08    18.457550\n",
      "2023-03-09    18.458003\n",
      "Name: confirmed, Length: 1143, dtype: float64\n"
     ]
    }
   ],
   "source": [
    "print(df['confirmed'])"
   ]
  },
  {
   "cell_type": "code",
   "execution_count": null,
   "id": "8f6d3f6c",
   "metadata": {
    "id": "8f6d3f6c",
    "outputId": "485e4b19-1b06-47c0-bd03-556dab56886c"
   },
   "outputs": [
    {
     "ename": "NameError",
     "evalue": "name 'confirmed_results' is not defined",
     "output_type": "error",
     "traceback": [
      "\u001b[0;31m---------------------------------------------------------------------------\u001b[0m",
      "\u001b[0;31mNameError\u001b[0m                                 Traceback (most recent call last)",
      "Cell \u001b[0;32mIn[1], line 6\u001b[0m\n\u001b[1;32m      3\u001b[0m \u001b[38;5;28;01mimport\u001b[39;00m \u001b[38;5;21;01mmatplotlib\u001b[39;00m\u001b[38;5;21;01m.\u001b[39;00m\u001b[38;5;21;01mpyplot\u001b[39;00m \u001b[38;5;28;01mas\u001b[39;00m \u001b[38;5;21;01mplt\u001b[39;00m\n\u001b[1;32m      5\u001b[0m \u001b[38;5;66;03m# Forecast 'confirmed' series\u001b[39;00m\n\u001b[0;32m----> 6\u001b[0m confirmed_forecast \u001b[38;5;241m=\u001b[39m \u001b[43mconfirmed_results\u001b[49m\u001b[38;5;241m.\u001b[39mget_forecast(steps\u001b[38;5;241m=\u001b[39mforecast_periods)\n\u001b[1;32m      7\u001b[0m confirmed_pred \u001b[38;5;241m=\u001b[39m confirmed_forecast\u001b[38;5;241m.\u001b[39mpredicted_mean\n\u001b[1;32m      8\u001b[0m confirmed_ci \u001b[38;5;241m=\u001b[39m confirmed_forecast\u001b[38;5;241m.\u001b[39mconf_int()\n",
      "\u001b[0;31mNameError\u001b[0m: name 'confirmed_results' is not defined"
     ]
    }
   ],
   "source": [
    "from datetime import datetime\n",
    "import pytz\n",
    "import matplotlib.pyplot as plt\n",
    "\n",
    "# Forecast 'confirmed' series\n",
    "confirmed_forecast = confirmed_results.get_forecast(steps=forecast_periods)\n",
    "confirmed_pred = confirmed_forecast.predicted_mean\n",
    "confirmed_ci = confirmed_forecast.conf_int()\n",
    "\n",
    "# Forecast 'death' series\n",
    "death_forecast = death_results.get_forecast(steps=forecast_periods)\n",
    "death_pred = death_forecast.predicted_mean\n",
    "death_ci = death_forecast.conf_int()\n",
    "\n",
    "# Convert index to datetime\n",
    "confirmed_pred.index = confirmed_pred.index.tz_localize('UTC')\n",
    "confirmed_ci.index = confirmed_ci.index.tz_localize('UTC')\n",
    "\n",
    "death_pred.index = death_pred.index.tz_localize('UTC')\n",
    "death_ci.index = death_ci.index.tz_localize('UTC')\n",
    "\n",
    "# Plot the results\n",
    "plt.figure(figsize=(12, 6))\n",
    "\n",
    "# 'confirmed' series\n",
    "plt.subplot(2, 1, 1)\n",
    "plt.plot(train_df.index, train_df['confirmed'], label='Training Data')\n",
    "plt.plot(test_df.index, test_df['confirmed'], label='Actual Data')\n",
    "plt.plot(confirmed_pred.index, confirmed_pred.values, color='red', label='Forecast')\n",
    "plt.fill_between(confirmed_ci.index, confirmed_ci.iloc[:, 0], confirmed_ci.iloc[:, 1], color='red', alpha=0.1)\n",
    "plt.title('Confirmed Cases Forecast')\n",
    "plt.legend()\n",
    "\n",
    "# 'death' series\n",
    "plt.subplot(2, 1, 2)\n",
    "plt.plot(train_df.index, train_df['death'], label='Training Data')\n",
    "plt.plot(test_df.index, test_df['death'], label='Actual Data')\n",
    "plt.plot(death_pred.index, death_pred.values, color='blue', label='Forecast')\n",
    "plt.fill_between(death_ci.index, death_ci.iloc[:, 0], death_ci.iloc[:, 1], color='blue', alpha=0.1)\n",
    "plt.title('Death Cases Forecast')\n",
    "plt.legend()\n",
    "\n",
    "# Explicitly set the timezone for the x-axis\n",
    "plt.gca().xaxis.set_major_locator(mdates.MonthLocator())\n",
    "plt.gca().xaxis.set_major_formatter(mdates.DateFormatter('%Y-%m-%d'))\n",
    "\n",
    "plt.tight_layout()\n",
    "plt.show()"
   ]
  },
  {
   "cell_type": "code",
   "execution_count": null,
   "id": "e77c5c8e",
   "metadata": {
    "id": "e77c5c8e"
   },
   "outputs": [],
   "source": []
  }
 ],
 "metadata": {
  "colab": {
   "provenance": []
  },
  "kernelspec": {
   "display_name": "Python 3 (ipykernel)",
   "language": "python",
   "name": "python3"
  },
  "language_info": {
   "codemirror_mode": {
    "name": "ipython",
    "version": 3
   },
   "file_extension": ".py",
   "mimetype": "text/x-python",
   "name": "python",
   "nbconvert_exporter": "python",
   "pygments_lexer": "ipython3",
   "version": "3.10.9"
  }
 },
 "nbformat": 4,
 "nbformat_minor": 5
}
