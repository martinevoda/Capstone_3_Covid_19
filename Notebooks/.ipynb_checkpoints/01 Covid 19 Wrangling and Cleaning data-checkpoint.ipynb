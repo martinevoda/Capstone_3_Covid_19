{
 "cells": [
  {
   "cell_type": "markdown",
   "id": "a1f9981a",
   "metadata": {},
   "source": [
    "# Covid 19 Data Wrangling and Cleaning"
   ]
  },
  {
   "cell_type": "markdown",
   "id": "3b9145aa",
   "metadata": {},
   "source": [
    "## Contents:\n",
    "\n",
    "* Imports\n",
    "* Initial look at data\n",
    "    * Confirmed cases dataset\n",
    "    * Death cases dataset\n",
    "    * New DataFrame 'df'\n",
    "* Cleaning data\n",
    "    * Checking the period of time that dataset cover\n",
    "    * Looking for potential outliers quantitatively\n",
    "    * Calculate Z-Score to identify outliers\n",
    "* Save dataset    \n",
    "* Conclusion"
   ]
  },
  {
   "cell_type": "markdown",
   "id": "b4671e4e",
   "metadata": {},
   "source": [
    "## Imports"
   ]
  },
  {
   "cell_type": "code",
   "execution_count": 2,
   "id": "62979809",
   "metadata": {},
   "outputs": [],
   "source": [
    "import warnings\n",
    "warnings.filterwarnings(\"ignore\")\n",
    "\n",
    "import numpy as np\n",
    "import pandas as pd\n",
    "import matplotlib.pyplot as plt\n",
    "import seaborn as sns\n",
    "import os\n",
    "\n",
    "#from pmdarima import auto_arima\n",
    "from statsmodels.tsa.arima.model import ARIMA\n",
    "\n",
    "from sklearn.preprocessing import MinMaxScaler\n",
    "\n",
    "#import tensorflow as tf\n",
    "#from tensorflow.keras.models import Sequential\n",
    "#from tensorflow.keras.layers import LSTM, Dense\n",
    "\n",
    "\n",
    "from math import sqrt\n",
    "from sklearn.metrics import mean_squared_error"
   ]
  },
  {
   "cell_type": "markdown",
   "id": "771004e1",
   "metadata": {},
   "source": [
    "## Initial look at data"
   ]
  },
  {
   "cell_type": "markdown",
   "id": "f7fb35c2",
   "metadata": {},
   "source": [
    "### Confirmed cases dataset"
   ]
  },
  {
   "cell_type": "code",
   "execution_count": 23,
   "id": "0dcb6a8b",
   "metadata": {},
   "outputs": [],
   "source": [
    "#Delete columns from \"comfirmed dataset\"\n",
    "column_drop = ['UID', 'iso2', 'iso3', 'code3', 'FIPS', 'Admin2',\n",
    "               'Province_State', 'Country_Region', 'Lat', 'Long_', 'Combined_Key']\n",
    "\n",
    "# Loading confirmed cases data\n",
    "df_confirmed_1 = pd.read_csv('../Data/time_series_covid19_confirmed_US.csv')\n",
    "df_confirmed = df_confirmed_1.drop(columns=column_drop).T\n",
    "df_confirmed = df_confirmed.sum(axis=1)"
   ]
  },
  {
   "cell_type": "code",
   "execution_count": 25,
   "id": "caa79877",
   "metadata": {},
   "outputs": [
    {
     "data": {
      "text/html": [
       "<div>\n",
       "<style scoped>\n",
       "    .dataframe tbody tr th:only-of-type {\n",
       "        vertical-align: middle;\n",
       "    }\n",
       "\n",
       "    .dataframe tbody tr th {\n",
       "        vertical-align: top;\n",
       "    }\n",
       "\n",
       "    .dataframe thead th {\n",
       "        text-align: right;\n",
       "    }\n",
       "</style>\n",
       "<table border=\"1\" class=\"dataframe\">\n",
       "  <thead>\n",
       "    <tr style=\"text-align: right;\">\n",
       "      <th></th>\n",
       "      <th>UID</th>\n",
       "      <th>iso2</th>\n",
       "      <th>iso3</th>\n",
       "      <th>code3</th>\n",
       "      <th>FIPS</th>\n",
       "      <th>Admin2</th>\n",
       "      <th>Province_State</th>\n",
       "      <th>Country_Region</th>\n",
       "      <th>Lat</th>\n",
       "      <th>Long_</th>\n",
       "      <th>...</th>\n",
       "      <th>2/28/23</th>\n",
       "      <th>3/1/23</th>\n",
       "      <th>3/2/23</th>\n",
       "      <th>3/3/23</th>\n",
       "      <th>3/4/23</th>\n",
       "      <th>3/5/23</th>\n",
       "      <th>3/6/23</th>\n",
       "      <th>3/7/23</th>\n",
       "      <th>3/8/23</th>\n",
       "      <th>3/9/23</th>\n",
       "    </tr>\n",
       "  </thead>\n",
       "  <tbody>\n",
       "    <tr>\n",
       "      <th>0</th>\n",
       "      <td>84001001</td>\n",
       "      <td>US</td>\n",
       "      <td>USA</td>\n",
       "      <td>840</td>\n",
       "      <td>1001.0</td>\n",
       "      <td>Autauga</td>\n",
       "      <td>Alabama</td>\n",
       "      <td>US</td>\n",
       "      <td>32.539527</td>\n",
       "      <td>-86.644082</td>\n",
       "      <td>...</td>\n",
       "      <td>19732</td>\n",
       "      <td>19759</td>\n",
       "      <td>19759</td>\n",
       "      <td>19759</td>\n",
       "      <td>19759</td>\n",
       "      <td>19759</td>\n",
       "      <td>19759</td>\n",
       "      <td>19759</td>\n",
       "      <td>19790</td>\n",
       "      <td>19790</td>\n",
       "    </tr>\n",
       "    <tr>\n",
       "      <th>1</th>\n",
       "      <td>84001003</td>\n",
       "      <td>US</td>\n",
       "      <td>USA</td>\n",
       "      <td>840</td>\n",
       "      <td>1003.0</td>\n",
       "      <td>Baldwin</td>\n",
       "      <td>Alabama</td>\n",
       "      <td>US</td>\n",
       "      <td>30.727750</td>\n",
       "      <td>-87.722071</td>\n",
       "      <td>...</td>\n",
       "      <td>69641</td>\n",
       "      <td>69767</td>\n",
       "      <td>69767</td>\n",
       "      <td>69767</td>\n",
       "      <td>69767</td>\n",
       "      <td>69767</td>\n",
       "      <td>69767</td>\n",
       "      <td>69767</td>\n",
       "      <td>69860</td>\n",
       "      <td>69860</td>\n",
       "    </tr>\n",
       "    <tr>\n",
       "      <th>2</th>\n",
       "      <td>84001005</td>\n",
       "      <td>US</td>\n",
       "      <td>USA</td>\n",
       "      <td>840</td>\n",
       "      <td>1005.0</td>\n",
       "      <td>Barbour</td>\n",
       "      <td>Alabama</td>\n",
       "      <td>US</td>\n",
       "      <td>31.868263</td>\n",
       "      <td>-85.387129</td>\n",
       "      <td>...</td>\n",
       "      <td>7451</td>\n",
       "      <td>7474</td>\n",
       "      <td>7474</td>\n",
       "      <td>7474</td>\n",
       "      <td>7474</td>\n",
       "      <td>7474</td>\n",
       "      <td>7474</td>\n",
       "      <td>7474</td>\n",
       "      <td>7485</td>\n",
       "      <td>7485</td>\n",
       "    </tr>\n",
       "    <tr>\n",
       "      <th>3</th>\n",
       "      <td>84001007</td>\n",
       "      <td>US</td>\n",
       "      <td>USA</td>\n",
       "      <td>840</td>\n",
       "      <td>1007.0</td>\n",
       "      <td>Bibb</td>\n",
       "      <td>Alabama</td>\n",
       "      <td>US</td>\n",
       "      <td>32.996421</td>\n",
       "      <td>-87.125115</td>\n",
       "      <td>...</td>\n",
       "      <td>8067</td>\n",
       "      <td>8087</td>\n",
       "      <td>8087</td>\n",
       "      <td>8087</td>\n",
       "      <td>8087</td>\n",
       "      <td>8087</td>\n",
       "      <td>8087</td>\n",
       "      <td>8087</td>\n",
       "      <td>8091</td>\n",
       "      <td>8091</td>\n",
       "    </tr>\n",
       "    <tr>\n",
       "      <th>4</th>\n",
       "      <td>84001009</td>\n",
       "      <td>US</td>\n",
       "      <td>USA</td>\n",
       "      <td>840</td>\n",
       "      <td>1009.0</td>\n",
       "      <td>Blount</td>\n",
       "      <td>Alabama</td>\n",
       "      <td>US</td>\n",
       "      <td>33.982109</td>\n",
       "      <td>-86.567906</td>\n",
       "      <td>...</td>\n",
       "      <td>18616</td>\n",
       "      <td>18673</td>\n",
       "      <td>18673</td>\n",
       "      <td>18673</td>\n",
       "      <td>18673</td>\n",
       "      <td>18673</td>\n",
       "      <td>18673</td>\n",
       "      <td>18673</td>\n",
       "      <td>18704</td>\n",
       "      <td>18704</td>\n",
       "    </tr>\n",
       "  </tbody>\n",
       "</table>\n",
       "<p>5 rows × 1154 columns</p>\n",
       "</div>"
      ],
      "text/plain": [
       "        UID iso2 iso3  code3    FIPS   Admin2 Province_State Country_Region  \\\n",
       "0  84001001   US  USA    840  1001.0  Autauga        Alabama             US   \n",
       "1  84001003   US  USA    840  1003.0  Baldwin        Alabama             US   \n",
       "2  84001005   US  USA    840  1005.0  Barbour        Alabama             US   \n",
       "3  84001007   US  USA    840  1007.0     Bibb        Alabama             US   \n",
       "4  84001009   US  USA    840  1009.0   Blount        Alabama             US   \n",
       "\n",
       "         Lat      Long_  ... 2/28/23  3/1/23  3/2/23  3/3/23  3/4/23  3/5/23  \\\n",
       "0  32.539527 -86.644082  ...   19732   19759   19759   19759   19759   19759   \n",
       "1  30.727750 -87.722071  ...   69641   69767   69767   69767   69767   69767   \n",
       "2  31.868263 -85.387129  ...    7451    7474    7474    7474    7474    7474   \n",
       "3  32.996421 -87.125115  ...    8067    8087    8087    8087    8087    8087   \n",
       "4  33.982109 -86.567906  ...   18616   18673   18673   18673   18673   18673   \n",
       "\n",
       "   3/6/23  3/7/23  3/8/23  3/9/23  \n",
       "0   19759   19759   19790   19790  \n",
       "1   69767   69767   69860   69860  \n",
       "2    7474    7474    7485    7485  \n",
       "3    8087    8087    8091    8091  \n",
       "4   18673   18673   18704   18704  \n",
       "\n",
       "[5 rows x 1154 columns]"
      ]
     },
     "execution_count": 25,
     "metadata": {},
     "output_type": "execute_result"
    }
   ],
   "source": [
    "df_confirmed_1.head()"
   ]
  },
  {
   "cell_type": "markdown",
   "id": "4fcaac00",
   "metadata": {},
   "source": [
    "### Death cases dataset"
   ]
  },
  {
   "cell_type": "code",
   "execution_count": null,
   "id": "f16d2334",
   "metadata": {},
   "outputs": [],
   "source": [
    "# Delete colums from \"death dataset\"\n",
    "column_drop = ['UID', 'iso2', 'iso3', 'code3', 'FIPS', 'Admin2', 'Population',\n",
    "               'Province_State', 'Country_Region', 'Lat', 'Long_', 'Combined_Key']\n",
    "\n",
    "# Loading death cases data\n",
    "df_death_1 = pd.read_csv('../Data/time_series_covid19_deaths_US.csv')\n",
    "df_death = df_death_1.drop(columns=column_drop).T\n",
    "df_death = df_death.sum(axis=1)\n"
   ]
  },
  {
   "cell_type": "code",
   "execution_count": 26,
   "id": "fabb3559",
   "metadata": {},
   "outputs": [
    {
     "data": {
      "text/html": [
       "<div>\n",
       "<style scoped>\n",
       "    .dataframe tbody tr th:only-of-type {\n",
       "        vertical-align: middle;\n",
       "    }\n",
       "\n",
       "    .dataframe tbody tr th {\n",
       "        vertical-align: top;\n",
       "    }\n",
       "\n",
       "    .dataframe thead th {\n",
       "        text-align: right;\n",
       "    }\n",
       "</style>\n",
       "<table border=\"1\" class=\"dataframe\">\n",
       "  <thead>\n",
       "    <tr style=\"text-align: right;\">\n",
       "      <th></th>\n",
       "      <th>UID</th>\n",
       "      <th>iso2</th>\n",
       "      <th>iso3</th>\n",
       "      <th>code3</th>\n",
       "      <th>FIPS</th>\n",
       "      <th>Admin2</th>\n",
       "      <th>Province_State</th>\n",
       "      <th>Country_Region</th>\n",
       "      <th>Lat</th>\n",
       "      <th>Long_</th>\n",
       "      <th>...</th>\n",
       "      <th>2/28/23</th>\n",
       "      <th>3/1/23</th>\n",
       "      <th>3/2/23</th>\n",
       "      <th>3/3/23</th>\n",
       "      <th>3/4/23</th>\n",
       "      <th>3/5/23</th>\n",
       "      <th>3/6/23</th>\n",
       "      <th>3/7/23</th>\n",
       "      <th>3/8/23</th>\n",
       "      <th>3/9/23</th>\n",
       "    </tr>\n",
       "  </thead>\n",
       "  <tbody>\n",
       "    <tr>\n",
       "      <th>0</th>\n",
       "      <td>84001001</td>\n",
       "      <td>US</td>\n",
       "      <td>USA</td>\n",
       "      <td>840</td>\n",
       "      <td>1001.0</td>\n",
       "      <td>Autauga</td>\n",
       "      <td>Alabama</td>\n",
       "      <td>US</td>\n",
       "      <td>32.539527</td>\n",
       "      <td>-86.644082</td>\n",
       "      <td>...</td>\n",
       "      <td>230</td>\n",
       "      <td>232</td>\n",
       "      <td>232</td>\n",
       "      <td>232</td>\n",
       "      <td>232</td>\n",
       "      <td>232</td>\n",
       "      <td>232</td>\n",
       "      <td>232</td>\n",
       "      <td>232</td>\n",
       "      <td>232</td>\n",
       "    </tr>\n",
       "    <tr>\n",
       "      <th>1</th>\n",
       "      <td>84001003</td>\n",
       "      <td>US</td>\n",
       "      <td>USA</td>\n",
       "      <td>840</td>\n",
       "      <td>1003.0</td>\n",
       "      <td>Baldwin</td>\n",
       "      <td>Alabama</td>\n",
       "      <td>US</td>\n",
       "      <td>30.727750</td>\n",
       "      <td>-87.722071</td>\n",
       "      <td>...</td>\n",
       "      <td>724</td>\n",
       "      <td>726</td>\n",
       "      <td>726</td>\n",
       "      <td>726</td>\n",
       "      <td>726</td>\n",
       "      <td>726</td>\n",
       "      <td>726</td>\n",
       "      <td>726</td>\n",
       "      <td>727</td>\n",
       "      <td>727</td>\n",
       "    </tr>\n",
       "    <tr>\n",
       "      <th>2</th>\n",
       "      <td>84001005</td>\n",
       "      <td>US</td>\n",
       "      <td>USA</td>\n",
       "      <td>840</td>\n",
       "      <td>1005.0</td>\n",
       "      <td>Barbour</td>\n",
       "      <td>Alabama</td>\n",
       "      <td>US</td>\n",
       "      <td>31.868263</td>\n",
       "      <td>-85.387129</td>\n",
       "      <td>...</td>\n",
       "      <td>103</td>\n",
       "      <td>103</td>\n",
       "      <td>103</td>\n",
       "      <td>103</td>\n",
       "      <td>103</td>\n",
       "      <td>103</td>\n",
       "      <td>103</td>\n",
       "      <td>103</td>\n",
       "      <td>103</td>\n",
       "      <td>103</td>\n",
       "    </tr>\n",
       "    <tr>\n",
       "      <th>3</th>\n",
       "      <td>84001007</td>\n",
       "      <td>US</td>\n",
       "      <td>USA</td>\n",
       "      <td>840</td>\n",
       "      <td>1007.0</td>\n",
       "      <td>Bibb</td>\n",
       "      <td>Alabama</td>\n",
       "      <td>US</td>\n",
       "      <td>32.996421</td>\n",
       "      <td>-87.125115</td>\n",
       "      <td>...</td>\n",
       "      <td>109</td>\n",
       "      <td>109</td>\n",
       "      <td>109</td>\n",
       "      <td>109</td>\n",
       "      <td>109</td>\n",
       "      <td>109</td>\n",
       "      <td>109</td>\n",
       "      <td>109</td>\n",
       "      <td>109</td>\n",
       "      <td>109</td>\n",
       "    </tr>\n",
       "    <tr>\n",
       "      <th>4</th>\n",
       "      <td>84001009</td>\n",
       "      <td>US</td>\n",
       "      <td>USA</td>\n",
       "      <td>840</td>\n",
       "      <td>1009.0</td>\n",
       "      <td>Blount</td>\n",
       "      <td>Alabama</td>\n",
       "      <td>US</td>\n",
       "      <td>33.982109</td>\n",
       "      <td>-86.567906</td>\n",
       "      <td>...</td>\n",
       "      <td>261</td>\n",
       "      <td>261</td>\n",
       "      <td>261</td>\n",
       "      <td>261</td>\n",
       "      <td>261</td>\n",
       "      <td>261</td>\n",
       "      <td>261</td>\n",
       "      <td>261</td>\n",
       "      <td>261</td>\n",
       "      <td>261</td>\n",
       "    </tr>\n",
       "  </tbody>\n",
       "</table>\n",
       "<p>5 rows × 1155 columns</p>\n",
       "</div>"
      ],
      "text/plain": [
       "        UID iso2 iso3  code3    FIPS   Admin2 Province_State Country_Region  \\\n",
       "0  84001001   US  USA    840  1001.0  Autauga        Alabama             US   \n",
       "1  84001003   US  USA    840  1003.0  Baldwin        Alabama             US   \n",
       "2  84001005   US  USA    840  1005.0  Barbour        Alabama             US   \n",
       "3  84001007   US  USA    840  1007.0     Bibb        Alabama             US   \n",
       "4  84001009   US  USA    840  1009.0   Blount        Alabama             US   \n",
       "\n",
       "         Lat      Long_  ... 2/28/23  3/1/23  3/2/23  3/3/23  3/4/23  3/5/23  \\\n",
       "0  32.539527 -86.644082  ...     230     232     232     232     232     232   \n",
       "1  30.727750 -87.722071  ...     724     726     726     726     726     726   \n",
       "2  31.868263 -85.387129  ...     103     103     103     103     103     103   \n",
       "3  32.996421 -87.125115  ...     109     109     109     109     109     109   \n",
       "4  33.982109 -86.567906  ...     261     261     261     261     261     261   \n",
       "\n",
       "   3/6/23  3/7/23  3/8/23  3/9/23  \n",
       "0     232     232     232     232  \n",
       "1     726     726     727     727  \n",
       "2     103     103     103     103  \n",
       "3     109     109     109     109  \n",
       "4     261     261     261     261  \n",
       "\n",
       "[5 rows x 1155 columns]"
      ]
     },
     "execution_count": 26,
     "metadata": {},
     "output_type": "execute_result"
    }
   ],
   "source": [
    "df_death_1.head()"
   ]
  },
  {
   "cell_type": "markdown",
   "id": "6f7f74ea",
   "metadata": {},
   "source": [
    "### New DataFrame 'df'"
   ]
  },
  {
   "cell_type": "code",
   "execution_count": null,
   "id": "319b1ad5",
   "metadata": {},
   "outputs": [],
   "source": [
    "# Create a new dataset 'df'\n",
    "df = pd.concat([df_confirmed,  df_death], axis=1)\n",
    "df.columns = ['confirmed', 'death']\n",
    "df['date'] = pd.to_datetime(df.index)\n",
    "df.set_index('date', inplace=True)"
   ]
  },
  {
   "cell_type": "code",
   "execution_count": 27,
   "id": "9ac710c0",
   "metadata": {},
   "outputs": [
    {
     "data": {
      "text/html": [
       "<div>\n",
       "<style scoped>\n",
       "    .dataframe tbody tr th:only-of-type {\n",
       "        vertical-align: middle;\n",
       "    }\n",
       "\n",
       "    .dataframe tbody tr th {\n",
       "        vertical-align: top;\n",
       "    }\n",
       "\n",
       "    .dataframe thead th {\n",
       "        text-align: right;\n",
       "    }\n",
       "</style>\n",
       "<table border=\"1\" class=\"dataframe\">\n",
       "  <thead>\n",
       "    <tr style=\"text-align: right;\">\n",
       "      <th></th>\n",
       "      <th>confirmed</th>\n",
       "      <th>death</th>\n",
       "    </tr>\n",
       "    <tr>\n",
       "      <th>date</th>\n",
       "      <th></th>\n",
       "      <th></th>\n",
       "    </tr>\n",
       "  </thead>\n",
       "  <tbody>\n",
       "    <tr>\n",
       "      <th>2020-01-22</th>\n",
       "      <td>1</td>\n",
       "      <td>1</td>\n",
       "    </tr>\n",
       "    <tr>\n",
       "      <th>2020-01-23</th>\n",
       "      <td>1</td>\n",
       "      <td>1</td>\n",
       "    </tr>\n",
       "    <tr>\n",
       "      <th>2020-01-24</th>\n",
       "      <td>2</td>\n",
       "      <td>1</td>\n",
       "    </tr>\n",
       "    <tr>\n",
       "      <th>2020-01-25</th>\n",
       "      <td>2</td>\n",
       "      <td>1</td>\n",
       "    </tr>\n",
       "    <tr>\n",
       "      <th>2020-01-26</th>\n",
       "      <td>5</td>\n",
       "      <td>1</td>\n",
       "    </tr>\n",
       "  </tbody>\n",
       "</table>\n",
       "</div>"
      ],
      "text/plain": [
       "            confirmed  death\n",
       "date                        \n",
       "2020-01-22          1      1\n",
       "2020-01-23          1      1\n",
       "2020-01-24          2      1\n",
       "2020-01-25          2      1\n",
       "2020-01-26          5      1"
      ]
     },
     "execution_count": 27,
     "metadata": {},
     "output_type": "execute_result"
    }
   ],
   "source": [
    "df.head()"
   ]
  },
  {
   "cell_type": "code",
   "execution_count": 5,
   "id": "0a89697b",
   "metadata": {},
   "outputs": [
    {
     "data": {
      "text/plain": [
       "(1143, 2)"
      ]
     },
     "execution_count": 5,
     "metadata": {},
     "output_type": "execute_result"
    }
   ],
   "source": [
    "df.shape"
   ]
  },
  {
   "cell_type": "code",
   "execution_count": 6,
   "id": "e438d3ff",
   "metadata": {},
   "outputs": [
    {
     "name": "stdout",
     "output_type": "stream",
     "text": [
      "<class 'pandas.core.frame.DataFrame'>\n",
      "DatetimeIndex: 1143 entries, 2020-01-22 to 2023-03-09\n",
      "Data columns (total 2 columns):\n",
      " #   Column     Non-Null Count  Dtype\n",
      "---  ------     --------------  -----\n",
      " 0   confirmed  1143 non-null   int64\n",
      " 1   death      1143 non-null   int64\n",
      "dtypes: int64(2)\n",
      "memory usage: 26.8 KB\n"
     ]
    }
   ],
   "source": [
    "df.info()"
   ]
  },
  {
   "cell_type": "code",
   "execution_count": 7,
   "id": "78b06c68",
   "metadata": {},
   "outputs": [
    {
     "data": {
      "text/plain": [
       "confirmed    0\n",
       "death        0\n",
       "dtype: int64"
      ]
     },
     "execution_count": 7,
     "metadata": {},
     "output_type": "execute_result"
    }
   ],
   "source": [
    "df.isna().sum()"
   ]
  },
  {
   "cell_type": "code",
   "execution_count": 8,
   "id": "5b8d13f5",
   "metadata": {},
   "outputs": [
    {
     "data": {
      "text/html": [
       "<div>\n",
       "<style scoped>\n",
       "    .dataframe tbody tr th:only-of-type {\n",
       "        vertical-align: middle;\n",
       "    }\n",
       "\n",
       "    .dataframe tbody tr th {\n",
       "        vertical-align: top;\n",
       "    }\n",
       "\n",
       "    .dataframe thead th {\n",
       "        text-align: right;\n",
       "    }\n",
       "</style>\n",
       "<table border=\"1\" class=\"dataframe\">\n",
       "  <thead>\n",
       "    <tr style=\"text-align: right;\">\n",
       "      <th></th>\n",
       "      <th>confirmed</th>\n",
       "      <th>death</th>\n",
       "    </tr>\n",
       "  </thead>\n",
       "  <tbody>\n",
       "    <tr>\n",
       "      <th>count</th>\n",
       "      <td>1.143000e+03</td>\n",
       "      <td>1.143000e+03</td>\n",
       "    </tr>\n",
       "    <tr>\n",
       "      <th>mean</th>\n",
       "      <td>4.708079e+07</td>\n",
       "      <td>6.245628e+05</td>\n",
       "    </tr>\n",
       "    <tr>\n",
       "      <th>std</th>\n",
       "      <td>3.647509e+07</td>\n",
       "      <td>3.764218e+05</td>\n",
       "    </tr>\n",
       "    <tr>\n",
       "      <th>min</th>\n",
       "      <td>1.000000e+00</td>\n",
       "      <td>1.000000e+00</td>\n",
       "    </tr>\n",
       "    <tr>\n",
       "      <th>25%</th>\n",
       "      <td>9.401880e+06</td>\n",
       "      <td>2.325640e+05</td>\n",
       "    </tr>\n",
       "    <tr>\n",
       "      <th>50%</th>\n",
       "      <td>3.684590e+07</td>\n",
       "      <td>6.180290e+05</td>\n",
       "    </tr>\n",
       "    <tr>\n",
       "      <th>75%</th>\n",
       "      <td>8.408368e+07</td>\n",
       "      <td>1.006626e+06</td>\n",
       "    </tr>\n",
       "    <tr>\n",
       "      <th>max</th>\n",
       "      <td>1.038027e+08</td>\n",
       "      <td>1.123836e+06</td>\n",
       "    </tr>\n",
       "  </tbody>\n",
       "</table>\n",
       "</div>"
      ],
      "text/plain": [
       "          confirmed         death\n",
       "count  1.143000e+03  1.143000e+03\n",
       "mean   4.708079e+07  6.245628e+05\n",
       "std    3.647509e+07  3.764218e+05\n",
       "min    1.000000e+00  1.000000e+00\n",
       "25%    9.401880e+06  2.325640e+05\n",
       "50%    3.684590e+07  6.180290e+05\n",
       "75%    8.408368e+07  1.006626e+06\n",
       "max    1.038027e+08  1.123836e+06"
      ]
     },
     "execution_count": 8,
     "metadata": {},
     "output_type": "execute_result"
    }
   ],
   "source": [
    "df.describe()"
   ]
  },
  {
   "cell_type": "markdown",
   "id": "46bda19e",
   "metadata": {},
   "source": [
    "## Cleaning Data"
   ]
  },
  {
   "cell_type": "markdown",
   "id": "445ad7a6",
   "metadata": {},
   "source": [
    "### Checking the period of time that dataset cover"
   ]
  },
  {
   "cell_type": "code",
   "execution_count": 14,
   "id": "68105b12",
   "metadata": {},
   "outputs": [
    {
     "name": "stdout",
     "output_type": "stream",
     "text": [
      "The data set covers the period from 2020-01-22 00:00:00 to 2023-03-09 00:00:00.\n"
     ]
    }
   ],
   "source": [
    "unique_dates = df.index.unique()\n",
    "\n",
    "start_date = unique_dates.min()\n",
    "end_date = unique_dates.max()\n",
    "\n",
    "print(f\"The data set covers the period from {start_date} to {end_date}.\")"
   ]
  },
  {
   "cell_type": "markdown",
   "id": "e8b15e50",
   "metadata": {},
   "source": [
    "### Looking for potential outliers quantitatively"
   ]
  },
  {
   "cell_type": "code",
   "execution_count": 15,
   "id": "21e652de",
   "metadata": {},
   "outputs": [
    {
     "name": "stdout",
     "output_type": "stream",
     "text": [
      "positive Cases Statistics:\n",
      " count    1.143000e+03\n",
      "mean     4.708079e+07\n",
      "std      3.647509e+07\n",
      "min      1.000000e+00\n",
      "25%      9.401880e+06\n",
      "50%      3.684590e+07\n",
      "75%      8.408368e+07\n",
      "max      1.038027e+08\n",
      "Name: confirmed, dtype: float64\n",
      "\n",
      "Death Statistics:\n",
      " count    1.143000e+03\n",
      "mean     6.245628e+05\n",
      "std      3.764218e+05\n",
      "min      1.000000e+00\n",
      "25%      2.325640e+05\n",
      "50%      6.180290e+05\n",
      "75%      1.006626e+06\n",
      "max      1.123836e+06\n",
      "Name: death, dtype: float64\n"
     ]
    }
   ],
   "source": [
    "confirmed_stats = df['confirmed'].describe()\n",
    "death_stats = df['death'].describe()\n",
    "\n",
    "print('positive Cases Statistics:\\n', confirmed_stats)\n",
    "print('\\nDeath Statistics:\\n',death_stats)"
   ]
  },
  {
   "cell_type": "code",
   "execution_count": 16,
   "id": "0a9883d8",
   "metadata": {},
   "outputs": [
    {
     "data": {
      "image/png": "[encoded data removed]",
      "text/plain": [
       "<Figure size 1200x600 with 2 Axes>"
      ]
     },
     "metadata": {},
     "output_type": "display_data"
    }
   ],
   "source": [
    "#Set the color\n",
    "crest_palette = sns.color_palette('crest')\n",
    "\n",
    "# Visualize the data\n",
    "plt.figure(figsize=(12, 6))\n",
    "\n",
    "plt.subplot(2, 2, 1)\n",
    "sns.boxplot(data=df, x='confirmed', color=crest_palette[0])\n",
    "plt.title('Box Plot - confirmed Cases')\n",
    "\n",
    "plt.subplot(2, 2, 2)\n",
    "sns.boxplot(data=df, x='death', color=crest_palette[2])\n",
    "plt.title('Box Plot - Death Cases')\n",
    "\n",
    "plt.show()"
   ]
  },
  {
   "cell_type": "markdown",
   "id": "e8168959",
   "metadata": {},
   "source": [
    "### Calculate Z-Score to identify outliers"
   ]
  },
  {
   "cell_type": "code",
   "execution_count": 17,
   "id": "74606e43",
   "metadata": {},
   "outputs": [
    {
     "name": "stdout",
     "output_type": "stream",
     "text": [
      "Number of outliers in Positive Cases: 0  from:  1143\n",
      "Number of outliers in Death Cases: 0  from:  1143\n"
     ]
    }
   ],
   "source": [
    "\n",
    "from scipy import stats\n",
    "\n",
    "z_scores_confirmed = stats.zscore(df['confirmed'])\n",
    "outliers_confirmed = (z_scores_confirmed > 3) | (z_scores_confirmed < -3)\n",
    "\n",
    "z_scores_death = stats.zscore(df['death'])\n",
    "outliers_death = (z_scores_death > 3) | (z_scores_death < -3)\n",
    "\n",
    "# Print the number of outliers\n",
    "print('Number of outliers in Positive Cases:', sum(outliers_confirmed), ' from: ', len(outliers_confirmed))\n",
    "print('Number of outliers in Death Cases:', sum(outliers_death), ' from: ', len(outliers_death))"
   ]
  },
  {
   "cell_type": "markdown",
   "id": "e7a42c68",
   "metadata": {},
   "source": [
    "## Save dataset"
   ]
  },
  {
   "cell_type": "code",
   "execution_count": 18,
   "id": "f2c03932",
   "metadata": {},
   "outputs": [],
   "source": [
    "df.to_csv('../Data/cleaned_data.csv')"
   ]
  },
  {
   "cell_type": "markdown",
   "id": "6fc651ef",
   "metadata": {},
   "source": [
    "## Conclusion"
   ]
  },
  {
   "cell_type": "markdown",
   "id": "9b23348d",
   "metadata": {},
   "source": [
    "In this analysis, we initially worked with two distinct datasets: one for **confirmed** cases and another for **deaths**, both sourced from the [Johns Hopkins University of Medicine, Coronavirus Resource Center](https://coronavirus.jhu.edu/about/how-to-use-our-data). After loading the datasets and selecting the necessary columns, we concatenated both datasets along the date index to create a unified dataframe named **'df.'**. The cleaning process involved removing redundant columns, transposing the data, and calculating the total confirmed and death cases. The resulting dataframe spans from January 22, 2020, to March 9, 2023, and consists of 1143 entries with no missing values. Descriptive statistics for the 'confirmed' and 'death' columns provide insights into the dataset's characteristics, including mean, standard deviation, and quartile values.\n",
    "\n",
    "Box plots, generated using seaborn, visually illustrate the distribution of confirmed and death cases. Further, Z scores were computed to identify outliers, **confirming the absence of outliers in both confirmed and death cases.**\n",
    "\n",
    "The statistics reveal that the mean for confirmed cases is approximately 47 million, ranging from 1 to 103.8 million. For death cases, the mean is around 624,562, with a minimum of 1 and a maximum of 1,123,836.\n",
    "\n",
    "The absence of outliers and the cleanliness of the dataset make it suitable for subsequent analyses or modeling.\n",
    "\n",
    "The cleaned data has been saved as \"cleaned_data.csv\" for future reference or further exploration."
   ]
  },
  {
   "cell_type": "code",
   "execution_count": null,
   "id": "ebe38a17",
   "metadata": {},
   "outputs": [],
   "source": []
  }
 ],
 "metadata": {
  "kernelspec": {
   "display_name": "Python 3 (ipykernel)",
   "language": "python",
   "name": "python3"
  },
  "language_info": {
   "codemirror_mode": {
    "name": "ipython",
    "version": 3
   },
   "file_extension": ".py",
   "mimetype": "text/x-python",
   "name": "python",
   "nbconvert_exporter": "python",
   "pygments_lexer": "ipython3",
   "version": "3.10.9"
  }
 },
 "nbformat": 4,
 "nbformat_minor": 5
}
