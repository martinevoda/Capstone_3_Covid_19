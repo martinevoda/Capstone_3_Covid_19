{
 "cells": [
  {
   "cell_type": "markdown",
   "id": "3a242e9a",
   "metadata": {},
   "source": [
    "# Covid 19 Feature Engineering and Modeling"
   ]
  },
  {
   "cell_type": "markdown",
   "id": "26893fa8",
   "metadata": {},
   "source": [
    "## Contents:\n",
    "\n",
    "* Imports\n",
    "* Load dataset\n",
    "* Data Preparetion\n",
    "    * Decomposition positive cases\n",
    "    * Decomposition death cases\n",
    "* Stationarity check\n",
    "    * Making stationarity\n",
    "* Hyperparameter Tuning\n",
    "* Fit the models\n",
    "* Statistics of the models\n",
    "* Forecasting the models\n",
    "* Visualization of the forecasting\n",
    "* Saved the models and forecasting"
   ]
  },
  {
   "cell_type": "markdown",
   "id": "2c506ca1",
   "metadata": {},
   "source": [
    "## Imports"
   ]
  },
  {
   "cell_type": "code",
   "execution_count": 1,
   "id": "a293446d",
   "metadata": {},
   "outputs": [],
   "source": [
    "import warnings\n",
    "warnings.filterwarnings('ignore')\n",
    "import pandas as pd\n",
    "import numpy as np\n",
    "import matplotlib.pyplot as plt\n",
    "import seaborn as sns\n",
    "import os\n",
    "import pickle\n",
    "from sklearn.model_selection import train_test_split\n",
    "from sklearn.preprocessing import StandardScaler\n",
    "from sklearn.metrics import accuracy_score\n",
    "from sklearn.metrics import classification_report\n",
    "from sklearn.tree import DecisionTreeClassifier\n",
    "from sklearn.ensemble import RandomForestClassifier\n",
    "from sklearn.linear_model import LogisticRegression\n",
    "from sklearn.neighbors import KNeighborsClassifier\n",
    "from sklearn.ensemble import AdaBoostClassifier\n",
    "from sklearn.ensemble import BaggingClassifier\n",
    "from xgboost import XGBClassifier\n",
    "from sklearn.model_selection import RandomizedSearchCV,GridSearchCV\n",
    "from sklearn.metrics import confusion_matrix\n",
    "\n",
    "from statsmodels.tsa.seasonal import seasonal_decompose\n",
    "from statsmodels.tsa.stattools import adfuller\n",
    "from sklearn.metrics import mean_squared_error\n",
    "from statsmodels.tsa.arima.model import ARIMA\n",
    "\n",
    "from statsmodels.tsa.seasonal import seasonal_decompose\n",
    "\n",
    "from statsmodels.tsa.stattools import adfuller\n",
    "\n",
    "import pytz\n",
    "import pickle\n",
    "\n"
   ]
  },
  {
   "cell_type": "markdown",
   "id": "83d742bc",
   "metadata": {},
   "source": [
    "## Load dataset"
   ]
  },
  {
   "cell_type": "code",
   "execution_count": 46,
   "id": "46cae7c6",
   "metadata": {},
   "outputs": [
    {
     "data": {
      "text/html": [
       "<div>\n",
       "<style scoped>\n",
       "    .dataframe tbody tr th:only-of-type {\n",
       "        vertical-align: middle;\n",
       "    }\n",
       "\n",
       "    .dataframe tbody tr th {\n",
       "        vertical-align: top;\n",
       "    }\n",
       "\n",
       "    .dataframe thead th {\n",
       "        text-align: right;\n",
       "    }\n",
       "</style>\n",
       "<table border=\"1\" class=\"dataframe\">\n",
       "  <thead>\n",
       "    <tr style=\"text-align: right;\">\n",
       "      <th></th>\n",
       "      <th>confirmed</th>\n",
       "      <th>death</th>\n",
       "    </tr>\n",
       "    <tr>\n",
       "      <th>date</th>\n",
       "      <th></th>\n",
       "      <th></th>\n",
       "    </tr>\n",
       "  </thead>\n",
       "  <tbody>\n",
       "    <tr>\n",
       "      <th>2020-01-22</th>\n",
       "      <td>1</td>\n",
       "      <td>1</td>\n",
       "    </tr>\n",
       "    <tr>\n",
       "      <th>2020-01-23</th>\n",
       "      <td>1</td>\n",
       "      <td>1</td>\n",
       "    </tr>\n",
       "    <tr>\n",
       "      <th>2020-01-24</th>\n",
       "      <td>2</td>\n",
       "      <td>1</td>\n",
       "    </tr>\n",
       "    <tr>\n",
       "      <th>2020-01-25</th>\n",
       "      <td>2</td>\n",
       "      <td>1</td>\n",
       "    </tr>\n",
       "    <tr>\n",
       "      <th>2020-01-26</th>\n",
       "      <td>5</td>\n",
       "      <td>1</td>\n",
       "    </tr>\n",
       "    <tr>\n",
       "      <th>...</th>\n",
       "      <td>...</td>\n",
       "      <td>...</td>\n",
       "    </tr>\n",
       "    <tr>\n",
       "      <th>2023-03-05</th>\n",
       "      <td>103646975</td>\n",
       "      <td>1122134</td>\n",
       "    </tr>\n",
       "    <tr>\n",
       "      <th>2023-03-06</th>\n",
       "      <td>103655539</td>\n",
       "      <td>1122181</td>\n",
       "    </tr>\n",
       "    <tr>\n",
       "      <th>2023-03-07</th>\n",
       "      <td>103690910</td>\n",
       "      <td>1122516</td>\n",
       "    </tr>\n",
       "    <tr>\n",
       "      <th>2023-03-08</th>\n",
       "      <td>103755771</td>\n",
       "      <td>1123246</td>\n",
       "    </tr>\n",
       "    <tr>\n",
       "      <th>2023-03-09</th>\n",
       "      <td>103802702</td>\n",
       "      <td>1123836</td>\n",
       "    </tr>\n",
       "  </tbody>\n",
       "</table>\n",
       "<p>1143 rows × 2 columns</p>\n",
       "</div>"
      ],
      "text/plain": [
       "            confirmed    death\n",
       "date                          \n",
       "2020-01-22          1        1\n",
       "2020-01-23          1        1\n",
       "2020-01-24          2        1\n",
       "2020-01-25          2        1\n",
       "2020-01-26          5        1\n",
       "...               ...      ...\n",
       "2023-03-05  103646975  1122134\n",
       "2023-03-06  103655539  1122181\n",
       "2023-03-07  103690910  1122516\n",
       "2023-03-08  103755771  1123246\n",
       "2023-03-09  103802702  1123836\n",
       "\n",
       "[1143 rows x 2 columns]"
      ]
     },
     "execution_count": 46,
     "metadata": {},
     "output_type": "execute_result"
    }
   ],
   "source": [
    "df = pd.read_csv('../Data/cleaned_data.csv')\n",
    "df.set_index('date',inplace=True)\n",
    "df"
   ]
  },
  {
   "cell_type": "markdown",
   "id": "a8660eb9",
   "metadata": {},
   "source": [
    "## Data Preparation"
   ]
  },
  {
   "cell_type": "markdown",
   "id": "89ae38d9",
   "metadata": {},
   "source": [
    "#### Decomposition positive case"
   ]
  },
  {
   "cell_type": "code",
   "execution_count": 3,
   "id": "105dc5cf",
   "metadata": {},
   "outputs": [
    {
     "data": {
      "image/png": "[encoded data removed]",
      "text/plain": [
       "<Figure size 640x480 with 4 Axes>"
      ]
     },
     "metadata": {},
     "output_type": "display_data"
    }
   ],
   "source": [
    "# Set the color palette\n",
    "crest_palette = sns.color_palette('crest')\n",
    "# Decompose the 'confirmed' series\n",
    "confirmed_decomposition = seasonal_decompose(df['confirmed'], model='additive',period=1)\n",
    "\n",
    "# Plot the decomposed components\n",
    "confirmed_decomposition.plot()\n",
    "plt.show()"
   ]
  },
  {
   "cell_type": "markdown",
   "id": "30a648e4",
   "metadata": {},
   "source": [
    "#### Decomposition death cases"
   ]
  },
  {
   "cell_type": "code",
   "execution_count": 4,
   "id": "d11d05ad",
   "metadata": {},
   "outputs": [
    {
     "data": {
      "image/png": "[encoded data removed]",
      "text/plain": [
       "<Figure size 640x480 with 4 Axes>"
      ]
     },
     "metadata": {},
     "output_type": "display_data"
    }
   ],
   "source": [
    "# Decompose the 'death' series\n",
    "death_decomposition = seasonal_decompose(df['death'], model='additive',period=1)\n",
    "\n",
    "# Plot the decomposed components\n",
    "death_decomposition.plot()\n",
    "plt.show()"
   ]
  },
  {
   "cell_type": "markdown",
   "id": "25003005",
   "metadata": {},
   "source": [
    "## Stationarity check"
   ]
  },
  {
   "cell_type": "code",
   "execution_count": 38,
   "id": "77c32f03",
   "metadata": {},
   "outputs": [
    {
     "data": {
      "text/plain": [
       "(5.482928669670309,\n",
       " 0.01,\n",
       " 20,\n",
       " {'10%': 0.347, '5%': 0.463, '2.5%': 0.574, '1%': 0.739})"
      ]
     },
     "execution_count": 38,
     "metadata": {},
     "output_type": "execute_result"
    }
   ],
   "source": [
    "from statsmodels.tsa.stattools import kpss\n",
    "y_confirmed = df['confirmed']\n",
    "kpss(y_confirmed)\n"
   ]
  },
  {
   "cell_type": "code",
   "execution_count": 39,
   "id": "2d993c50",
   "metadata": {
    "scrolled": true
   },
   "outputs": [
    {
     "data": {
      "text/plain": [
       "(5.498790275122215,\n",
       " 0.01,\n",
       " 20,\n",
       " {'10%': 0.347, '5%': 0.463, '2.5%': 0.574, '1%': 0.739})"
      ]
     },
     "execution_count": 39,
     "metadata": {},
     "output_type": "execute_result"
    }
   ],
   "source": [
    "y_death = df['death']\n",
    "kpss(y_death)"
   ]
  },
  {
   "cell_type": "markdown",
   "id": "b1753148",
   "metadata": {},
   "source": [
    "Additionally, the p-value (0.01) is less than the significance level of 1%. This also suggests rejecting the null hypothesis.\n",
    "In both cases, the results suggest that the null hypothesis of stationarity is rejected, indicating that the time series data for both \"confirmed\" and \"death\" is likely non-stationary."
   ]
  },
  {
   "cell_type": "code",
   "execution_count": 5,
   "id": "7f81d3d5",
   "metadata": {
    "scrolled": true
   },
   "outputs": [
    {
     "name": "stdout",
     "output_type": "stream",
     "text": [
      "ADF Statistic: -0.03337976177109115\n",
      "p-value: 0.9556829980610061\n",
      "Critical Values: {'1%': -3.436207340777824, '5%': -2.8641263411190323, '10%': -2.5681470422493593}\n",
      "ADF Statistic: -1.7647214589397018\n",
      "p-value: 0.3981117527772616\n",
      "Critical Values: {'1%': -3.4362020989495545, '5%': -2.864124028818559, '10%': -2.5681458107461737}\n"
     ]
    }
   ],
   "source": [
    "def test_stationarity(timeseries):\n",
    "    #Dickey-Fuller test\n",
    "    result = adfuller(timeseries, autolag='AIC')\n",
    "    print('ADF Statistic:', result[0])\n",
    "    print('p-value:', result[1])\n",
    "    print('Critical Values:', result[4])\n",
    "\n",
    "test_stationarity(df['confirmed'])\n",
    "test_stationarity(df['death'])"
   ]
  },
  {
   "cell_type": "markdown",
   "id": "5af698d8",
   "metadata": {},
   "source": [
    "In both cases, the p-values are greater than the typical significance levels (e.g., 0.05), indicating that I fail to reject the null hypothesis. Therefore, you do not have enough evidence to conclude that the time series are stationary.\n",
    "\n",
    "To summarize, based on the ADF test results, the datasets for both confirmed and death appear to be non-stationary."
   ]
  },
  {
   "cell_type": "code",
   "execution_count": 6,
   "id": "613aa3f2",
   "metadata": {
    "scrolled": false
   },
   "outputs": [
    {
     "data": {
      "image/png": "[encoded data removed]",
      "text/plain": [
       "<Figure size 1200x500 with 2 Axes>"
      ]
     },
     "metadata": {},
     "output_type": "display_data"
    }
   ],
   "source": [
    "# Set the color palette\n",
    "crest_palette = sns.color_palette('crest')\n",
    "\n",
    "# Create subplots\n",
    "fig, axes = plt.subplots(nrows=1,ncols=2, figsize=(12, 5))\n",
    "\n",
    "# Plot 'confirmed' column with 'crest' color palette in the first subplot\n",
    "df['confirmed'].plot(ax=axes[0], color=crest_palette[0])\n",
    "axes[0].set_title('Confirmed Cases')\n",
    "\n",
    "# Plot 'death' column in the second subplot\n",
    "df['death'].plot(ax=axes[1], color=crest_palette[4])\n",
    "axes[1].set_title('Deaths')\n",
    "\n",
    "# Adjust layout for better spacing\n",
    "plt.tight_layout()\n",
    "\n",
    "# Show the plots\n",
    "plt.show()\n"
   ]
  },
  {
   "cell_type": "markdown",
   "id": "7e87275a",
   "metadata": {},
   "source": [
    "#### Making stationarity"
   ]
  },
  {
   "cell_type": "code",
   "execution_count": 54,
   "id": "d84991d3",
   "metadata": {},
   "outputs": [
    {
     "name": "stdout",
     "output_type": "stream",
     "text": [
      "ADF Statistic: -9.095787396441516\n",
      "p-value: 3.7183306101979044e-15\n",
      "Critical Values: {'1%': -3.436207340777824, '5%': -2.8641263411190323, '10%': -2.5681470422493593}\n",
      "ADF Statistic: -6.48504249689365\n",
      "p-value: 1.2670556457493723e-08\n",
      "Critical Values: {'1%': -3.4361604996756685, '5%': -2.864105678204421, '10%': -2.568136037454102}\n"
     ]
    }
   ],
   "source": [
    "df['confirmed']  = np.log(df['confirmed'])\n",
    "df['death']  = np.log(df['death'])\n",
    "\n",
    "test_stationarity(df['confirmed'])\n",
    "test_stationarity(df['death'])"
   ]
  },
  {
   "cell_type": "markdown",
   "id": "a3113cf3",
   "metadata": {},
   "source": [
    "Given that the p-values are well below typical significance levels (e.g., 0.05), you can reject the null hypothesis. Therefore, based on the ADF test results, the datasets in both cases appear to be stationary."
   ]
  },
  {
   "cell_type": "code",
   "execution_count": 55,
   "id": "f9c9d9d3",
   "metadata": {},
   "outputs": [
    {
     "data": {
      "image/png": "[encoded data removed]",
      "text/plain": [
       "<Figure size 1200x500 with 2 Axes>"
      ]
     },
     "metadata": {},
     "output_type": "display_data"
    }
   ],
   "source": [
    "# Set the color palette\n",
    "crest_palette = sns.color_palette('crest')\n",
    "\n",
    "# Create subplots\n",
    "fig, axes = plt.subplots(nrows=1,ncols=2, figsize=(12, 5))\n",
    "\n",
    "# Plot 'confirmed' column with 'crest' color palette in the first subplot\n",
    "df['confirmed'].plot(ax=axes[0], color=crest_palette[0])\n",
    "axes[0].set_title('Confirmed Cases')\n",
    "\n",
    "# Plot 'death' column in the second subplot\n",
    "df['death'].plot(ax=axes[1], color=crest_palette[4])\n",
    "axes[1].set_title('Deaths')\n",
    "\n",
    "# Adjust layout for better spacing\n",
    "plt.tight_layout()\n",
    "\n",
    "# Show the plots\n",
    "plt.show()\n"
   ]
  },
  {
   "cell_type": "markdown",
   "id": "9dce95f9",
   "metadata": {},
   "source": [
    "## Hyperparameter Tuning"
   ]
  },
  {
   "cell_type": "code",
   "execution_count": 9,
   "id": "ecb63ed9",
   "metadata": {
    "scrolled": false
   },
   "outputs": [
    {
     "name": "stdout",
     "output_type": "stream",
     "text": [
      "ARIMA (0, 0, 0) MSE=5.426 for confirmed\n",
      "ARIMA (0, 0, 1) MSE=1.366 for confirmed\n",
      "ARIMA (0, 0, 2) MSE=0.353 for confirmed\n",
      "ARIMA (0, 1, 0) MSE=0.000 for confirmed\n",
      "ARIMA (0, 1, 1) MSE=0.000 for confirmed\n",
      "ARIMA (0, 1, 2) MSE=0.000 for confirmed\n",
      "ARIMA (0, 2, 0) MSE=0.000 for confirmed\n",
      "ARIMA (0, 2, 1) MSE=0.000 for confirmed\n",
      "ARIMA (0, 2, 2) MSE=0.000 for confirmed\n",
      "ARIMA (1, 0, 0) MSE=0.000 for confirmed\n",
      "ARIMA (1, 0, 1) MSE=0.000 for confirmed\n",
      "ARIMA (1, 0, 2) MSE=0.000 for confirmed\n",
      "ARIMA (1, 1, 0) MSE=0.000 for confirmed\n",
      "ARIMA (1, 1, 1) MSE=0.000 for confirmed\n",
      "Error in evaluate_arima_model: Schur decomposition solver error.\n",
      "ARIMA (1, 1, 2) MSE=inf for confirmed\n",
      "ARIMA (1, 2, 0) MSE=0.000 for confirmed\n",
      "ARIMA (1, 2, 1) MSE=0.000 for confirmed\n",
      "ARIMA (1, 2, 2) MSE=0.000 for confirmed\n",
      "Error in evaluate_arima_model: LU decomposition error.\n",
      "ARIMA (2, 0, 0) MSE=inf for confirmed\n",
      "ARIMA (2, 0, 1) MSE=0.000 for confirmed\n",
      "ARIMA (2, 0, 2) MSE=0.000 for confirmed\n",
      "ARIMA (2, 1, 0) MSE=0.000 for confirmed\n",
      "ARIMA (2, 1, 1) MSE=0.000 for confirmed\n",
      "ARIMA (2, 1, 2) MSE=0.000 for confirmed\n",
      "ARIMA (2, 2, 0) MSE=0.000 for confirmed\n",
      "ARIMA (2, 2, 1) MSE=0.000 for confirmed\n",
      "ARIMA (2, 2, 2) MSE=0.000 for confirmed\n",
      "Best ARIMA (1, 1, 1) MSE= 0.000 for confirmed\n",
      "ARIMA (0, 0, 0) MSE=2.909 for death\n",
      "ARIMA (0, 0, 1) MSE=0.737 for death\n",
      "ARIMA (0, 0, 2) MSE=0.209 for death\n",
      "ARIMA (0, 1, 0) MSE=0.000 for death\n",
      "ARIMA (0, 1, 1) MSE=0.000 for death\n",
      "ARIMA (0, 1, 2) MSE=0.000 for death\n",
      "ARIMA (0, 2, 0) MSE=0.000 for death\n",
      "ARIMA (0, 2, 1) MSE=0.000 for death\n",
      "ARIMA (0, 2, 2) MSE=0.000 for death\n",
      "ARIMA (1, 0, 0) MSE=0.000 for death\n",
      "ARIMA (1, 0, 1) MSE=0.000 for death\n",
      "ARIMA (1, 0, 2) MSE=0.000 for death\n",
      "ARIMA (1, 1, 0) MSE=0.000 for death\n",
      "ARIMA (1, 1, 1) MSE=0.000 for death\n",
      "ARIMA (1, 1, 2) MSE=0.000 for death\n",
      "ARIMA (1, 2, 0) MSE=0.000 for death\n",
      "ARIMA (1, 2, 1) MSE=0.000 for death\n",
      "ARIMA (1, 2, 2) MSE=0.000 for death\n",
      "ARIMA (2, 0, 0) MSE=0.000 for death\n",
      "ARIMA (2, 0, 1) MSE=0.000 for death\n",
      "ARIMA (2, 0, 2) MSE=0.000 for death\n",
      "ARIMA (2, 1, 0) MSE=0.000 for death\n",
      "ARIMA (2, 1, 1) MSE=0.000 for death\n",
      "ARIMA (2, 1, 2) MSE=0.000 for death\n",
      "ARIMA (2, 2, 0) MSE=0.000 for death\n",
      "ARIMA (2, 2, 1) MSE=0.000 for death\n",
      "ARIMA (2, 2, 2) MSE=0.000 for death\n",
      "Best ARIMA (1, 1, 1) MSE= 0.000 for death\n"
     ]
    }
   ],
   "source": [
    "# Make a function called evaluate_arima_model to find the MSE of a single ARIMA model\n",
    "def evaluate_arima_model(data, arima_order):\n",
    "    try:\n",
    "        \n",
    "        # Needs to be an integer because it is later used as an index.\n",
    "        #split = int(len(data) * 0.8)\n",
    "        # Make train and test variables\n",
    "        #train, test = data[0:split], data[split:]\n",
    "        \n",
    "        # Define the end date for the training set\n",
    "        train_end_date = '2022-01-23' # dates cover 2020-01-22 to 2023-03-09\n",
    "        # Split the dataset\n",
    "        train = data[:train_end_date]\n",
    "        test = data[train_end_date:]\n",
    "        past = [x for x in train]\n",
    "        # Make predictions\n",
    "        predictions = list()\n",
    "        for i in range(len(test)):\n",
    "            model = ARIMA(past, order=arima_order)\n",
    "            model_fit = model.fit()\n",
    "            future = model_fit.forecast()[0]\n",
    "            predictions.append(future)\n",
    "            past.append(test[i])\n",
    "        # Calculate out-of-sample error\n",
    "        error = mean_squared_error(test, predictions)\n",
    "        # Return the error\n",
    "        return error\n",
    "    except Exception as e:\n",
    "        print(f\"Error in evaluate_arima_model: {e}\")\n",
    "        return np.inf  # Return infinity for cases where the model did not converge or encountered an issue\n",
    "\n",
    "# Make a function called evaluate_models to evaluate different ARIMA models with several different p, d, and q values.\n",
    "def evaluate_models(dataset, column, p_values, d_values, q_values):\n",
    "    best_score, best_cfg = float(\"inf\"), None\n",
    "    # Iterate through p_values\n",
    "    for p in p_values:\n",
    "        # Iterate through d_values\n",
    "        for d in d_values:\n",
    "            # Iterate through q_values\n",
    "            for q in q_values:\n",
    "                # p, d, q iterator variables in that order\n",
    "                order = (p, d, q)\n",
    "                # Make a variable called mse for the Mean squared error\n",
    "                mse = evaluate_arima_model(dataset[column], order)\n",
    "                if mse < best_score:\n",
    "                    best_score, best_cfg = mse, order\n",
    "                print(f'ARIMA {order} MSE={mse:.3f} for {column}')\n",
    "    return print(f'Best ARIMA {best_cfg} MSE= {best_score:.3f} for {column}')\n",
    "\n",
    "# Now, we choose a couple of values to try for each parameter: p_values, d_values, and q_values\n",
    "# Fill in the blanks as appropriate\n",
    "p_values = [x for x in range(0, 3)]\n",
    "d_values = [x for x in range(0, 3)]\n",
    "q_values = [x for x in range(0, 3)]\n",
    "\n",
    "# Finally, we can find the optimum ARIMA model for our data.\n",
    "# This can take a while...!\n",
    "import warnings\n",
    "warnings.filterwarnings(\"ignore\")\n",
    "\n",
    "# Evaluate for 'positive'\n",
    "evaluate_models(df, 'confirmed', p_values, d_values, q_values)\n",
    "\n",
    "# Evaluate for 'death'\n",
    "evaluate_models(df, 'death', p_values, d_values, q_values)"
   ]
  },
  {
   "cell_type": "markdown",
   "id": "0cd32aa1",
   "metadata": {},
   "source": [
    "## Fit the models"
   ]
  },
  {
   "cell_type": "code",
   "execution_count": 56,
   "id": "301a10ab",
   "metadata": {},
   "outputs": [],
   "source": [
    "p=1\n",
    "d=1\n",
    "q=1\n",
    "# Define the end date for the training set\n",
    "train_end_date = '2022-01-23' # dates cover 2020-01-22 to 2023-03-09\n",
    "# Split the dataset\n",
    "train = df['confirmed'][:train_end_date]\n",
    "test = df['confirmed'][train_end_date:]\n",
    "past = [x for x in train]\n",
    "# Fit the ARIMA model for 'confirmed' series\n",
    "confirmed_model = ARIMA(past, order=(p,d,q))\n",
    "confirmed_results = confirmed_model.fit()\n",
    "\n",
    "\n",
    "p=1\n",
    "d=1\n",
    "q=1\n",
    "train = df['death'][:train_end_date]\n",
    "test = df['death'][train_end_date:]\n",
    "past = [x for x in train]\n",
    "# Fit the ARIMA model for 'death' series\n",
    "death_model = ARIMA(past, order=(p,d,q))\n",
    "death_results = death_model.fit()\n"
   ]
  },
  {
   "cell_type": "markdown",
   "id": "53f1f39c",
   "metadata": {},
   "source": [
    "## Statistics of the models"
   ]
  },
  {
   "cell_type": "code",
   "execution_count": 30,
   "id": "59a51724",
   "metadata": {
    "scrolled": false
   },
   "outputs": [
    {
     "name": "stdout",
     "output_type": "stream",
     "text": [
      "confirmed summary:                                SARIMAX Results                                \n",
      "==============================================================================\n",
      "Dep. Variable:                      y   No. Observations:                  734\n",
      "Model:                 ARIMA(1, 1, 1)   Log Likelihood                1137.458\n",
      "Date:                Mon, 15 Jan 2024   AIC                          -2268.917\n",
      "Time:                        15:38:17   BIC                          -2255.125\n",
      "Sample:                             0   HQIC                         -2263.597\n",
      "                                - 734                                         \n",
      "Covariance Type:                  opg                                         \n",
      "==============================================================================\n",
      "                 coef    std err          z      P>|z|      [0.025      0.975]\n",
      "------------------------------------------------------------------------------\n",
      "ar.L1          0.9859      0.002    515.317      0.000       0.982       0.990\n",
      "ma.L1         -0.7313      0.010    -75.659      0.000      -0.750      -0.712\n",
      "sigma2         0.0026   3.08e-05     85.023      0.000       0.003       0.003\n",
      "===================================================================================\n",
      "Ljung-Box (L1) (Q):                  27.63   Jarque-Bera (JB):            206386.01\n",
      "Prob(Q):                              0.00   Prob(JB):                         0.00\n",
      "Heteroskedasticity (H):               0.00   Skew:                             4.95\n",
      "Prob(H) (two-sided):                  0.00   Kurtosis:                        84.60\n",
      "===================================================================================\n",
      "\n",
      "Warnings:\n",
      "[1] Covariance matrix calculated using the outer product of gradients (complex-step).\n",
      "\n",
      "----------------------------------------------------------------------------------------------------\n",
      "\n",
      "death summary:                                SARIMAX Results                                \n",
      "==============================================================================\n",
      "Dep. Variable:                      y   No. Observations:                  734\n",
      "Model:                 ARIMA(1, 1, 1)   Log Likelihood                1109.337\n",
      "Date:                Mon, 15 Jan 2024   AIC                          -2212.674\n",
      "Time:                        15:38:18   BIC                          -2198.882\n",
      "Sample:                             0   HQIC                         -2207.354\n",
      "                                - 734                                         \n",
      "Covariance Type:                  opg                                         \n",
      "==============================================================================\n",
      "                 coef    std err          z      P>|z|      [0.025      0.975]\n",
      "------------------------------------------------------------------------------\n",
      "ar.L1          0.9742      0.009    111.920      0.000       0.957       0.991\n",
      "ma.L1         -0.7576      0.014    -54.717      0.000      -0.785      -0.730\n",
      "sigma2         0.0028   1.53e-05    184.682      0.000       0.003       0.003\n",
      "===================================================================================\n",
      "Ljung-Box (L1) (Q):                  39.33   Jarque-Bera (JB):           3203169.74\n",
      "Prob(Q):                              0.00   Prob(JB):                         0.00\n",
      "Heteroskedasticity (H):               0.00   Skew:                            16.15\n",
      "Prob(H) (two-sided):                  0.00   Kurtosis:                       325.23\n",
      "===================================================================================\n",
      "\n",
      "Warnings:\n",
      "[1] Covariance matrix calculated using the outer product of gradients (complex-step).\n"
     ]
    }
   ],
   "source": [
    "print('confirmed summary:', confirmed_results.summary())\n",
    "print('\\n' + '-'*100 + '\\n') \n",
    "print('death summary:', death_results.summary())"
   ]
  },
  {
   "cell_type": "markdown",
   "id": "72fed82d",
   "metadata": {},
   "source": [
    "* Confirmed Cases Model (ARIMA(1, 1, 1)):\n",
    "    * Model Parameters:\n",
    "         ARIMA(1, 1, 1) indicates a first-order autoregressive process with differencing and a first-order moving average component.\n",
    "        The coefficients for the autoregressive (AR) and moving average (MA) terms are 0.9859 and -0.7313, respectively.\n",
    "    * Goodness of Fit:\n",
    "        Log Likelihood: 1137.458\n",
    "        AIC (Akaike Information Criterion): -2268.917\n",
    "        BIC (Bayesian Information Criterion): -2255.125\n",
    "        HQIC (Hannan-Quinn Information Criterion): -2263.597\n",
    "        **The lower AIC, BIC, and HQIC values suggest a better fit of the model to the data.**\n",
    "    * Residuals Analysis:\n",
    "        Ljung-Box (Q) statistic: 27.63, with a p-value of 0.00, **indicating no significant autocorrelation in residuals.**\n",
    "        Jarque-Bera (JB) statistic: 206386.01, with a p-value of 0.00, **suggesting departure from normality.**\n",
    "        Heteroskedasticity:\n",
    "            * Heteroskedasticity test indicates a p-value of 0.00, **suggesting the presence of heteroskedasticity in residuals.**\n",
    "* Death Cases Model (ARIMA(1, 1, 1)):\n",
    "    * Model Parameters:\n",
    "       ARIMA(1, 1, 1) structure with AR and MA coefficients of 0.9742 and -0.7576, respectively.\n",
    "    * Goodness of Fit:\n",
    "        Log Likelihood: 1109.337\n",
    "        AIC: -2212.674\n",
    "        BIC: -2198.882\n",
    "        HQIC: -2207.354\n",
    "        Similar to confirmed cases, lower AIC, BIC, and HQIC values suggest a good fit.\n",
    "    * Residuals Analysis:\n",
    "        Ljung-Box (Q) statistic: 39.33, with a p-value of 0.00, indicating no significant autocorrelation in residuals.\n",
    "        Jarque-Bera (JB) statistic: 3203169.74, with a p-value of 0.00, suggesting departure from normality.\n",
    "        Heteroskedasticity:\n",
    "            *Heteroskedasticity test indicates a p-value of 0.00, indicating the presence of heteroskedasticity in residuals.\n",
    "* Conclusion:\n",
    "**Both models seem to fit the data well based on the AIC, BIC, and HQIC values.\n",
    "Residuals in both models show no significant autocorrelation but exhibit departure from normality.\n",
    "Heteroskedasticity is present in both models, indicating variability in residuals.**\n"
   ]
  },
  {
   "cell_type": "markdown",
   "id": "aeaecc54",
   "metadata": {},
   "source": [
    "## Forcasting the models"
   ]
  },
  {
   "cell_type": "code",
   "execution_count": 95,
   "id": "5d7679cc",
   "metadata": {
    "scrolled": false
   },
   "outputs": [
    {
     "name": "stdout",
     "output_type": "stream",
     "text": [
      "confirmed predictions: \n",
      " [18.10190168 18.11094329 18.11985777 18.12864692 18.13731251 18.14585626\n",
      " 18.15427989 18.16258509 18.17077353 18.17884684 18.18680665 18.19465454\n",
      " 18.2023921  18.21002088 18.2175424  18.22495818 18.23226969 18.23947841\n",
      " 18.24658578 18.25359322 18.26050215 18.26731394 18.27402996 18.28065156\n",
      " 18.28718006 18.29361678 18.299963   18.30621999 18.31238902 18.31847132\n",
      " 18.3244681  18.33038057 18.33620992 18.34195731 18.3476239  18.35321082\n",
      " 18.35871919 18.36415011 18.36950468 18.37478397 18.37998904 18.38512093\n",
      " 18.39018066 18.39516926 18.40008772 18.40493704 18.40971817 18.41443209\n",
      " 18.41907973 18.42366203 18.4281799  18.43263426 18.43702599 18.44135598\n",
      " 18.44562509 18.44983417 18.45398409 18.45807565 18.4621097  18.46608702\n",
      " 18.47000843 18.47387471 18.47768663 18.48144495 18.48515044 18.48880383\n",
      " 18.49240585 18.49595724 18.49945869 18.50291092 18.50631461 18.50967044\n",
      " 18.5129791  18.51624124 18.51945751 18.52262857 18.52575504 18.52883756\n",
      " 18.53187674 18.53487319 18.53782751 18.5407403  18.54361213 18.54644359\n",
      " 18.54923524 18.55198764 18.55470135 18.5573769  18.56001483 18.56261568\n",
      " 18.56517996 18.56770819 18.57020088 18.57265852 18.57508161 18.57747063\n",
      " 18.57982606 18.58214837 18.58443804 18.58669551 18.58892125 18.59111569\n",
      " 18.59327928 18.59541246 18.59751564 18.59958925 18.60163371 18.60364943\n",
      " 18.6056368  18.60759624 18.60952812 18.61143285 18.6133108  18.61516234\n",
      " 18.61698785 18.6187877  18.62056224 18.62231183 18.62403683 18.62573757\n",
      " 18.6274144  18.62906766 18.63069767 18.63230477 18.63388927 18.6354515\n",
      " 18.63699176 18.63851036 18.64000762 18.64148382 18.64293927 18.64437426\n",
      " 18.64578907 18.64718399 18.6485593  18.64991528 18.65125219 18.6525703\n",
      " 18.65386988 18.65515119 18.65641449 18.65766003 18.65888805 18.66009881\n",
      " 18.66129255 18.6624695  18.66362991 18.664774   18.665902   18.66701415\n",
      " 18.66811066 18.66919176 18.67025765 18.67130856 18.6723447  18.67336627\n",
      " 18.67437347 18.67536652 18.6763456  18.67731092 18.67826266 18.67920103\n",
      " 18.6801262  18.68103837 18.68193771 18.6828244  18.68369863 18.68456057\n",
      " 18.68541039 18.68624827 18.68707436 18.68788884 18.68869187 18.68948361\n",
      " 18.69026421 18.69103384 18.69179265 18.6925408  18.69327842 18.69400568\n",
      " 18.69472271 18.69542965 18.69612666 18.69681387 18.69749142 18.69815944\n",
      " 18.69881807 18.69946744 18.70010768 18.70073892 18.70136129 18.7019749\n",
      " 18.70257989 18.70317637 18.70376447 18.70434429 18.70491597 18.70547961\n",
      " 18.70603532 18.70658322 18.70712342 18.70765602 18.70818114 18.70869887\n",
      " 18.70920932 18.7097126  18.7102088  18.71069803 18.71118037 18.71165594\n",
      " 18.71212482 18.7125871  18.71304289 18.71349227 18.71393533 18.71437216\n",
      " 18.71480285 18.71522749 18.71564615 18.71605893 18.71646591 18.71686716\n",
      " 18.71726278 18.71765283 18.71803739 18.71841655 18.71879038 18.71915896\n",
      " 18.71952235 18.71988063 18.72023387 18.72058215 18.72092554 18.72126409\n",
      " 18.72159789 18.72192699 18.72225146 18.72257138 18.72288679 18.72319777\n",
      " 18.72350438 18.72380668 18.72410473 18.72439858 18.72468831 18.72497396\n",
      " 18.7252556  18.72553328 18.72580705 18.72607697 18.7263431  18.72660549\n",
      " 18.72686419 18.72711925 18.72737072 18.72761866 18.72786312 18.72810413\n",
      " 18.72834176 18.72857605 18.72880704 18.72903479 18.72925933 18.72948072\n",
      " 18.729699   18.7299142  18.73012638 18.73033558 18.73054184 18.73074519\n",
      " 18.73094569 18.73114337 18.73133827 18.73153043 18.73171988 18.73190668\n",
      " 18.73209084 18.73227242 18.73245145 18.73262796 18.73280198 18.73297356\n",
      " 18.73314273 18.73330952 18.73347396 18.7336361  18.73379595 18.73395355\n",
      " 18.73410894 18.73426215 18.7344132  18.73456213 18.73470896 18.73485373\n",
      " 18.73499646 18.73513719 18.73527594 18.73541274 18.73554761 18.73568059\n",
      " 18.7358117  18.73594097 18.73606841 18.73619407 18.73631796 18.73644011\n",
      " 18.73656054 18.73667927 18.73679634 18.73691177 18.73702556 18.73713776\n",
      " 18.73724839 18.73735745 18.73746499 18.73757101 18.73767554 18.7377786\n",
      " 18.73788021 18.73798039 18.73807917 18.73817656 18.73827257 18.73836724\n",
      " 18.73846058 18.7385526  18.73864333 18.73873279 18.73882098 18.73890794\n",
      " 18.73899367 18.7390782  18.73916154 18.73924371 18.73932473 18.7394046\n",
      " 18.73948335 18.739561   18.73963755 18.73971303 18.73978744 18.73986081\n",
      " 18.73993315 18.74000447 18.74007479 18.74014412 18.74021247 18.74027987\n",
      " 18.74034631 18.74041183 18.74047642 18.7405401  18.74060289 18.74066479\n",
      " 18.74072583 18.740786   18.74084533 18.74090383 18.7409615  18.74101836\n",
      " 18.74107443 18.7411297  18.7411842  18.74123793 18.74129091 18.74134314\n",
      " 18.74139464 18.74144541 18.74149547 18.74154483 18.74159349 18.74164147\n",
      " 18.74168877 18.74173541 18.74178139 18.74182672 18.74187142 18.74191549\n",
      " 18.74195894 18.74200178 18.74204402 18.74208566 18.74212672 18.7421672\n",
      " 18.74220711 18.74224646 18.74228526 18.74232351 18.74236123 18.74239841\n",
      " 18.74243507 18.74247122 18.74250685 18.74254199 18.74257663 18.74261079\n",
      " 18.74264446 18.74267766 18.7427104  18.74274267 18.74277449 18.74280587\n",
      " 18.7428368  18.7428673  18.74289737 18.74292701 18.74295624 18.74298506\n",
      " 18.74301347 18.74304149 18.7430691  18.74309634 18.74312318 18.74314966\n",
      " 18.74317575 18.74320149 18.74322686 18.74325187 18.74327653] \n",
      "\n",
      "death predictions: \n",
      " [13.67928444 13.68125602 13.68317671 13.68504783 13.68687065 13.68864643\n",
      " 13.69037638 13.69206167 13.69370347 13.69530289 13.69686104 13.69837896\n",
      " 13.69985771 13.70129829 13.70270169 13.70406887 13.70540076 13.70669828\n",
      " 13.7079623  13.70919371 13.71039332 13.71156198 13.71270048 13.71380958\n",
      " 13.71489007 13.71594266 13.71696809 13.71796705 13.71894023 13.71988829\n",
      " 13.72081188 13.72171164 13.72258817 13.72344207 13.72427394 13.72508434\n",
      " 13.72587382 13.72664292 13.72739218 13.72812209 13.72883317 13.72952589\n",
      " 13.73020074 13.73085816 13.73149862 13.73212255 13.73273037 13.73332251\n",
      " 13.73389936 13.73446133 13.73500879 13.73554212 13.73606168 13.73656784\n",
      " 13.73706093 13.73754129 13.73800926 13.73846515 13.73890927 13.73934193\n",
      " 13.73976342 13.74017403 13.74057405 13.74096374 13.74134337 13.7417132\n",
      " 13.74207349 13.74242448 13.74276641 13.74309952 13.74342403 13.74374016\n",
      " 13.74404813 13.74434816 13.74464044 13.74492517 13.74520256 13.74547279\n",
      " 13.74573604 13.7459925  13.74624234 13.74648573 13.74672284 13.74695383\n",
      " 13.74717886 13.74739808 13.74761164 13.74781969 13.74802237 13.74821982\n",
      " 13.74841217 13.74859956 13.74878211 13.74895995 13.7491332  13.74930198\n",
      " 13.7494664  13.74962658 13.74978263 13.74993464 13.75008274 13.75022701\n",
      " 13.75036755 13.75050447 13.75063786 13.7507678  13.75089439 13.75101771\n",
      " 13.75113785 13.75125489 13.75136891 13.75147998 13.75158819 13.7516936\n",
      " 13.7517963  13.75189634 13.7519938  13.75208875 13.75218124 13.75227135\n",
      " 13.75235913 13.75244465 13.75252796 13.75260912 13.75268818 13.75276521\n",
      " 13.75284024 13.75291334 13.75298456 13.75305393 13.75312151 13.75318735\n",
      " 13.75325149 13.75331398 13.75337485 13.75343415 13.75349192 13.7535482\n",
      " 13.75360303 13.75365644 13.75370847 13.75375916 13.75380855 13.75385665\n",
      " 13.75390352 13.75394917 13.75399365 13.75403698 13.75407919 13.75412032\n",
      " 13.75416038 13.7541994  13.75423742 13.75427446 13.75431054 13.75434569\n",
      " 13.75437994 13.7544133  13.75444579 13.75447745 13.7545083  13.75453834\n",
      " 13.75456761 13.75459613 13.75462391 13.75465097 13.75467734 13.75470302\n",
      " 13.75472804 13.75475242 13.75477616 13.7547993  13.75482183 13.75484379\n",
      " 13.75486517 13.75488601 13.75490631 13.75492608 13.75494535 13.75496411\n",
      " 13.75498239 13.7550002  13.75501755 13.75503446 13.75505092 13.75506696\n",
      " 13.75508259 13.75509782 13.75511265 13.7551271  13.75514117 13.75515488\n",
      " 13.75516824 13.75518126 13.75519393 13.75520628 13.75521831 13.75523004\n",
      " 13.75524145 13.75525258 13.75526342 13.75527397 13.75528426 13.75529428\n",
      " 13.75530404 13.75531354 13.75532281 13.75533183 13.75534062 13.75534919\n",
      " 13.75535753 13.75536566 13.75537358 13.75538129 13.75538881 13.75539613\n",
      " 13.75540326 13.75541021 13.75541697 13.75542357 13.75542999 13.75543625\n",
      " 13.75544234 13.75544828 13.75545407 13.75545971 13.7554652  13.75547055\n",
      " 13.75547576 13.75548083 13.75548578 13.7554906  13.75549529 13.75549986\n",
      " 13.75550432 13.75550866 13.75551288 13.755517   13.75552101 13.75552492\n",
      " 13.75552873 13.75553244 13.75553605 13.75553957 13.755543   13.75554634\n",
      " 13.7555496  13.75555277 13.75555586 13.75555887 13.7555618  13.75556465\n",
      " 13.75556744 13.75557015 13.75557279 13.75557536 13.75557786 13.7555803\n",
      " 13.75558268 13.755585   13.75558726 13.75558946 13.7555916  13.75559368\n",
      " 13.75559572 13.7555977  13.75559963 13.75560151 13.75560334 13.75560512\n",
      " 13.75560686 13.75560855 13.7556102  13.75561181 13.75561337 13.7556149\n",
      " 13.75561638 13.75561783 13.75561924 13.75562061 13.75562195 13.75562325\n",
      " 13.75562452 13.75562576 13.75562696 13.75562814 13.75562928 13.75563039\n",
      " 13.75563148 13.75563254 13.75563357 13.75563457 13.75563555 13.7556365\n",
      " 13.75563743 13.75563833 13.75563921 13.75564007 13.75564091 13.75564172\n",
      " 13.75564251 13.75564328 13.75564404 13.75564477 13.75564548 13.75564618\n",
      " 13.75564686 13.75564752 13.75564816 13.75564879 13.7556494  13.75564999\n",
      " 13.75565057 13.75565114 13.75565169 13.75565222 13.75565275 13.75565325\n",
      " 13.75565375 13.75565423 13.7556547  13.75565516 13.75565561 13.75565604\n",
      " 13.75565646 13.75565688 13.75565728 13.75565767 13.75565805 13.75565842\n",
      " 13.75565878 13.75565914 13.75565948 13.75565981 13.75566014 13.75566046\n",
      " 13.75566077 13.75566107 13.75566136 13.75566165 13.75566193 13.7556622\n",
      " 13.75566246 13.75566272 13.75566297 13.75566322 13.75566345 13.75566369\n",
      " 13.75566391 13.75566413 13.75566435 13.75566456 13.75566476 13.75566496\n",
      " 13.75566515 13.75566534 13.75566552 13.7556657  13.75566587 13.75566604\n",
      " 13.75566621 13.75566637 13.75566653 13.75566668 13.75566683 13.75566697\n",
      " 13.75566711 13.75566725 13.75566739 13.75566752 13.75566764 13.75566777\n",
      " 13.75566789 13.75566801 13.75566812 13.75566823 13.75566834 13.75566845\n",
      " 13.75566855 13.75566865 13.75566875 13.75566884 13.75566894 13.75566903\n",
      " 13.75566912 13.7556692  13.75566928 13.75566937 13.75566945 13.75566952\n",
      " 13.7556696  13.75566967 13.75566974 13.75566981 13.75566988 13.75566995\n",
      " 13.75567001 13.75567007 13.75567014 13.75567019 13.75567025 13.75567031\n",
      " 13.75567036 13.75567042 13.75567047 13.75567052 13.75567057 13.75567062\n",
      " 13.75567067 13.75567071 13.75567076 13.7556708  13.75567084 13.75567088\n",
      " 13.75567092 13.75567096 13.755671   13.75567104 13.75567108 13.75567111]\n"
     ]
    }
   ],
   "source": [
    "# Define the number of periods to forecast (1 year)\n",
    "forecast_periods = len(df['confirmed']['2022-01-13':])\n",
    "\n",
    "# Forecast 'confirmed' series3confirmed_forecast = confirmed_results.get_forecast(steps=forecast_periods)\n",
    "confirmed_pred = confirmed_forecast.predicted_mean\n",
    "print('confirmed predictions: ''\\n', confirmed_pred, '\\n')\n",
    "\n",
    "# Forecast 'death' series\n",
    "death_forecast = death_results.get_forecast(steps=forecast_periods)\n",
    "death_pred = death_forecast.predicted_mean\n",
    "print('death predictions: ' '\\n', death_pred)"
   ]
  },
  {
   "cell_type": "markdown",
   "id": "bd071282",
   "metadata": {},
   "source": [
    "## Visualization of the forecasting"
   ]
  },
  {
   "cell_type": "code",
   "execution_count": 1,
   "id": "e1503ca4",
   "metadata": {
    "scrolled": false
   },
   "outputs": [
    {
     "ename": "NameError",
     "evalue": "name 'df' is not defined",
     "output_type": "error",
     "traceback": [
      "\u001b[0;31m---------------------------------------------------------------------------\u001b[0m",
      "\u001b[0;31mNameError\u001b[0m                                 Traceback (most recent call last)",
      "Cell \u001b[0;32mIn[1], line 8\u001b[0m\n\u001b[1;32m      1\u001b[0m \u001b[38;5;66;03m# Convert the datetime index to pandas datetime object\u001b[39;00m\n\u001b[1;32m      2\u001b[0m \u001b[38;5;66;03m# df.index = pd.to_datetime(df.index)\u001b[39;00m\n\u001b[1;32m      3\u001b[0m \n\u001b[0;32m   (...)\u001b[0m\n\u001b[1;32m      6\u001b[0m \n\u001b[1;32m      7\u001b[0m \u001b[38;5;66;03m# Convert the datetime index to the specified timezone\u001b[39;00m\n\u001b[0;32m----> 8\u001b[0m df\u001b[38;5;241m.\u001b[39mindex \u001b[38;5;241m=\u001b[39m \u001b[43mdf\u001b[49m\u001b[38;5;241m.\u001b[39mindex\u001b[38;5;241m.\u001b[39mtz_convert(\u001b[38;5;124m'\u001b[39m\u001b[38;5;124mAmerica/New_York\u001b[39m\u001b[38;5;124m'\u001b[39m)\n\u001b[1;32m     10\u001b[0m \u001b[38;5;66;03m# Set the color palette\u001b[39;00m\n\u001b[1;32m     11\u001b[0m crest \u001b[38;5;241m=\u001b[39m sns\u001b[38;5;241m.\u001b[39mcolor_palette(\u001b[38;5;124m'\u001b[39m\u001b[38;5;124mcrest\u001b[39m\u001b[38;5;124m'\u001b[39m)\n",
      "\u001b[0;31mNameError\u001b[0m: name 'df' is not defined"
     ]
    }
   ],
   "source": [
    "\n",
    "# Convert the datetime index to pandas datetime object\n",
    "# df.index = pd.to_datetime(df.index)\n",
    "\n",
    "# Localize the datetime index to UTC first\n",
    "# df.index = df.index.tz_localize('UTC')\n",
    "\n",
    "# Convert the datetime index to the specified timezone\n",
    "df.index = df.index.tz_convert('America/New_York')\n",
    "\n",
    "# Set the color palette\n",
    "crest = sns.color_palette('crest')\n",
    "\n",
    "# Log-transformed to original values\n",
    "df['confirmed_original'] = np.exp(df['confirmed'])\n",
    "df['death_original'] = np.exp(df['death'])\n",
    "confirmed_pred_original = np.exp(confirmed_pred)\n",
    "death_pred_original = np.exp(death_pred)\n",
    "\n",
    "# Specify training end date and forecast periods\n",
    "train_end_date = '2022-01-23'\n",
    "forecast_start_date = '2022-01-14'\n",
    "forecast_periods = len(df['confirmed'][forecast_start_date:])\n",
    "\n",
    "# Plotting Confirmed Cases\n",
    "plt.figure(figsize=(15, 10))\n",
    "plt.subplot(2, 1, 1)  # 1 row, 2 columns, first plot\n",
    "plt.plot(df['confirmed_original'][:train_end_date], label='Confirmed Cases (Train)', color=crest[0])\n",
    "plt.plot(df['confirmed'][forecast_start_date:].index, confirmed_pred_original[-forecast_periods:], label='Confirmed Cases Forecast', linestyle='--', color=crest[4])\n",
    "plt.plot(df['confirmed_original'][train_end_date:], label='Confirmed Cases (Test)', color=crest[2])\n",
    "plt.title('Confirmed Cases')\n",
    "plt.ylabel('Count')\n",
    "plt.gca().xaxis.set_major_locator(mdates.MonthLocator())\n",
    "plt.gca().xaxis.set_major_formatter(mdates.DateFormatter('%b'))\n",
    "plt.legend()\n",
    "plt.xticks([])\n",
    "\n",
    "# Plotting Death Cases\n",
    "plt.subplot(2, 1, 2)  # 1 row, 2 columns, second plot\n",
    "plt.plot(df['death_original'][:train_end_date], label='Death Cases (Train)', color=crest[0])\n",
    "plt.plot(df['death'][forecast_start_date:].index, death_pred_original[-forecast_periods:], label='Death Cases Forecast', linestyle='--', color=crest[4])\n",
    "plt.title('Death Cases')\n",
    "plt.xlabel('Date')\n",
    "plt.ylabel('Count')\n",
    "plt.gca().xaxis.set_major_locator(mdates.MonthLocator())\n",
    "plt.gca().xaxis.set_major_formatter(mdates.DateFormatter('%b %Y'))\n",
    "plt.legend()\n",
    "\n",
    "# Save both plots to files\n",
    "plt.savefig('../Images/plot_forecasting.png')\n",
    "\n",
    "plt.tight_layout()  # Adjust layout for better spacing\n",
    "plt.xticks(rotation=45, ha='right')\n",
    "plt.show()\n"
   ]
  },
  {
   "cell_type": "markdown",
   "id": "b24fcbfd",
   "metadata": {},
   "source": [
    "## Saved models and forecastings"
   ]
  },
  {
   "cell_type": "code",
   "execution_count": 98,
   "id": "c632b07e",
   "metadata": {},
   "outputs": [
    {
     "name": "stdout",
     "output_type": "stream",
     "text": [
      "Models and predictions saved successfully in the \"../Models\" folder.\n"
     ]
    }
   ],
   "source": [
    "# Save models and predictions\n",
    "model_data = {\n",
    "    'confirmed_model': confirmed_model,\n",
    "    'death_model': death_model,\n",
    "    'confirmed_results': confirmed_results,\n",
    "    'death_results': death_results,\n",
    "    'confirmed_pred': confirmed_pred,\n",
    "    'death_pred': death_pred\n",
    "}\n",
    "\n",
    "folder_path = '../Models'\n",
    "\n",
    "with open(os.path.join(folder_path, 'confirmed_model.pkl'), 'wb') as file:\n",
    "    pickle.dump(confirmed_model, file)\n",
    "\n",
    "with open(os.path.join(folder_path, 'death_model.pkl'), 'wb') as file:\n",
    "    pickle.dump(death_model, file)\n",
    "\n",
    "with open(os.path.join(folder_path, 'confirmed_results.pkl'), 'wb') as file:\n",
    "    pickle.dump(confirmed_results, file)\n",
    "\n",
    "with open(os.path.join(folder_path, 'death_results.pkl'), 'wb') as file:\n",
    "    pickle.dump(death_results, file)\n",
    "\n",
    "with open(os.path.join(folder_path, 'confirmed_pred.pkl'), 'wb') as file:\n",
    "    pickle.dump(confirmed_pred, file)\n",
    "\n",
    "with open(os.path.join(folder_path, 'death_pred.pkl'), 'wb') as file:\n",
    "    pickle.dump(death_pred, file)\n",
    "\n",
    "\n",
    "\n",
    "print(f'Models and predictions saved successfully in the \"{folder_path}\" folder.')"
   ]
  },
  {
   "cell_type": "code",
   "execution_count": null,
   "id": "5a224a3c",
   "metadata": {},
   "outputs": [],
   "source": []
  }
 ],
 "metadata": {
  "kernelspec": {
   "display_name": "Python 3 (ipykernel)",
   "language": "python",
   "name": "python3"
  },
  "language_info": {
   "codemirror_mode": {
    "name": "ipython",
    "version": 3
   },
   "file_extension": ".py",
   "mimetype": "text/x-python",
   "name": "python",
   "nbconvert_exporter": "python",
   "pygments_lexer": "ipython3",
   "version": "3.10.9"
  }
 },
 "nbformat": 4,
 "nbformat_minor": 5
}
